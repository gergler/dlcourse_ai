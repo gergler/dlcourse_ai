{
 "cells": [
  {
   "cell_type": "markdown",
   "metadata": {},
   "source": [
    "# Задание 2.1 - Нейронные сети\n",
    "\n",
    "В этом задании вы реализуете и натренируете настоящую нейроную сеть своими руками!\n",
    "\n",
    "В некотором смысле это будет расширением прошлого задания - нам нужно просто составить несколько линейных классификаторов вместе!\n",
    "\n",
    "<img src=\"https://i.redd.it/n9fgba8b0qr01.png\" alt=\"Stack_more_layers\" width=\"400px\"/>"
   ]
  },
  {
   "cell_type": "code",
   "execution_count": 1,
   "metadata": {},
   "outputs": [],
   "source": [
    "import numpy as np\n",
    "import matplotlib.pyplot as plt\n",
    "\n",
    "%matplotlib inline\n",
    "\n",
    "%load_ext autoreload\n",
    "%autoreload 2"
   ]
  },
  {
   "cell_type": "code",
   "execution_count": 2,
   "metadata": {},
   "outputs": [],
   "source": [
    "from dataset import load_svhn, random_split_train_val\n",
    "from gradient_check import check_layer_gradient, check_layer_param_gradient, check_model_gradient\n",
    "from layers import FullyConnectedLayer, ReLULayer\n",
    "from model import TwoLayerNet\n",
    "from trainer import Trainer, Dataset\n",
    "from optim import SGD, MomentumSGD\n",
    "from metrics import multiclass_accuracy"
   ]
  },
  {
   "cell_type": "markdown",
   "metadata": {},
   "source": [
    "# Загружаем данные\n",
    "\n",
    "И разделяем их на training и validation."
   ]
  },
  {
   "cell_type": "code",
   "execution_count": 3,
   "metadata": {},
   "outputs": [
    {
     "name": "stderr",
     "output_type": "stream",
     "text": [
      "/tmp/ipykernel_13835/2810386256.py:2: DeprecationWarning: `np.float` is a deprecated alias for the builtin `float`. To silence this warning, use `float` by itself. Doing this will not modify any behavior and is safe. If you specifically wanted the numpy scalar type, use `np.float64` here.\n",
      "Deprecated in NumPy 1.20; for more details and guidance: https://numpy.org/devdocs/release/1.20.0-notes.html#deprecations\n",
      "  train_flat = train_X.reshape(train_X.shape[0], -1).astype(np.float) / 255.0\n",
      "/tmp/ipykernel_13835/2810386256.py:3: DeprecationWarning: `np.float` is a deprecated alias for the builtin `float`. To silence this warning, use `float` by itself. Doing this will not modify any behavior and is safe. If you specifically wanted the numpy scalar type, use `np.float64` here.\n",
      "Deprecated in NumPy 1.20; for more details and guidance: https://numpy.org/devdocs/release/1.20.0-notes.html#deprecations\n",
      "  test_flat = test_X.reshape(test_X.shape[0], -1).astype(np.float) / 255.0\n"
     ]
    }
   ],
   "source": [
    "def prepare_for_neural_network(train_X, test_X):\n",
    "    train_flat = train_X.reshape(train_X.shape[0], -1).astype(np.float) / 255.0\n",
    "    test_flat = test_X.reshape(test_X.shape[0], -1).astype(np.float) / 255.0\n",
    "    \n",
    "    # Subtract mean\n",
    "    mean_image = np.mean(train_flat, axis = 0)\n",
    "    train_flat -= mean_image\n",
    "    test_flat -= mean_image\n",
    "    \n",
    "    return train_flat, test_flat\n",
    "    \n",
    "train_X, train_y, test_X, test_y = load_svhn(\"data\", max_train=10000, max_test=1000)    \n",
    "train_X, test_X = prepare_for_neural_network(train_X, test_X)\n",
    "# Split train into train and val\n",
    "train_X, train_y, val_X, val_y = random_split_train_val(train_X, train_y, num_val = 1000)"
   ]
  },
  {
   "cell_type": "markdown",
   "metadata": {},
   "source": [
    "# Как всегда, начинаем с кирпичиков\n",
    "\n",
    "Мы будем реализовывать необходимые нам слои по очереди. Каждый слой должен реализовать:\n",
    "- прямой проход (forward pass), который генерирует выход слоя по входу и запоминает необходимые данные\n",
    "- обратный проход (backward pass), который получает градиент по выходу слоя и вычисляет градиент по входу и по параметрам\n",
    "\n",
    "Начнем с ReLU, у которого параметров нет."
   ]
  },
  {
   "cell_type": "code",
   "execution_count": 4,
   "metadata": {
    "scrolled": false
   },
   "outputs": [
    {
     "name": "stdout",
     "output_type": "stream",
     "text": [
      "Gradient check passed!\n"
     ]
    }
   ],
   "source": [
    "# TODO: Implement ReLULayer layer in layers.py\n",
    "# Note: you'll need to copy implementation of the gradient_check function from the previous assignment\n",
    "\n",
    "X = np.array([[1,-2,3],\n",
    "              [-1, 2, 0.1]])\n",
    "\n",
    "assert check_layer_gradient(ReLULayer(), X)"
   ]
  },
  {
   "cell_type": "markdown",
   "metadata": {},
   "source": [
    "А теперь реализуем полносвязный слой (fully connected layer), у которого будет два массива параметров: W (weights) и B (bias).\n",
    "\n",
    "Все параметры наши слои будут использовать для параметров специальный класс `Param`, в котором будут храниться значения параметров и градиенты этих параметров, вычисляемые во время обратного прохода.\n",
    "\n",
    "Это даст возможность аккумулировать (суммировать) градиенты из разных частей функции потерь, например, из cross-entropy loss и regularization loss."
   ]
  },
  {
   "cell_type": "code",
   "execution_count": 5,
   "metadata": {},
   "outputs": [
    {
     "name": "stdout",
     "output_type": "stream",
     "text": [
      "Gradient check passed!\n",
      "Gradient check passed!\n",
      "Gradient check passed!\n"
     ]
    }
   ],
   "source": [
    "# TODO: Implement FullyConnected layer forward and backward methods\n",
    "assert check_layer_gradient(FullyConnectedLayer(3, 4), X)\n",
    "# TODO: Implement storing gradients for W and B\n",
    "assert check_layer_param_gradient(FullyConnectedLayer(3, 4), X, 'W')\n",
    "assert check_layer_param_gradient(FullyConnectedLayer(3, 4), X, 'B')"
   ]
  },
  {
   "cell_type": "markdown",
   "metadata": {},
   "source": [
    "## Создаем нейронную сеть\n",
    "\n",
    "Теперь мы реализуем простейшую нейронную сеть с двумя полносвязным слоями и нелинейностью ReLU. Реализуйте функцию `compute_loss_and_gradients`, она должна запустить прямой и обратный проход через оба слоя для вычисления градиентов.\n",
    "\n",
    "Не забудьте реализовать очистку градиентов в начале функции."
   ]
  },
  {
   "cell_type": "code",
   "execution_count": 6,
   "metadata": {},
   "outputs": [
    {
     "name": "stdout",
     "output_type": "stream",
     "text": [
      "Checking gradient for W1\n",
      "Gradient check passed!\n",
      "Checking gradient for B1\n",
      "Gradient check passed!\n",
      "Checking gradient for W2\n",
      "Gradient check passed!\n",
      "Checking gradient for B2\n",
      "Gradient check passed!\n"
     ]
    },
    {
     "data": {
      "text/plain": [
       "True"
      ]
     },
     "execution_count": 6,
     "metadata": {},
     "output_type": "execute_result"
    }
   ],
   "source": [
    "# TODO: In model.py, implement compute_loss_and_gradients function\n",
    "model = TwoLayerNet(n_input = train_X.shape[1], n_output = 10, hidden_layer_size = 3, reg = 0)\n",
    "loss = model.compute_loss_and_gradients(train_X[:2], train_y[:2])\n",
    "\n",
    "# TODO Now implement backward pass and aggregate all of the params\n",
    "check_model_gradient(model, train_X[:2], train_y[:2])"
   ]
  },
  {
   "cell_type": "markdown",
   "metadata": {},
   "source": [
    "Теперь добавьте к модели регуляризацию - она должна прибавляться к loss и делать свой вклад в градиенты."
   ]
  },
  {
   "cell_type": "code",
   "execution_count": 7,
   "metadata": {},
   "outputs": [
    {
     "name": "stdout",
     "output_type": "stream",
     "text": [
      "Checking gradient for W1\n",
      "Gradient check passed!\n",
      "Checking gradient for B1\n",
      "Gradient check passed!\n",
      "Checking gradient for W2\n",
      "Gradient check passed!\n",
      "Checking gradient for B2\n",
      "Gradient check passed!\n"
     ]
    },
    {
     "data": {
      "text/plain": [
       "True"
      ]
     },
     "execution_count": 7,
     "metadata": {},
     "output_type": "execute_result"
    }
   ],
   "source": [
    "# TODO Now implement l2 regularization in the forward and backward pass\n",
    "model_with_reg = TwoLayerNet(n_input = train_X.shape[1], n_output = 10, hidden_layer_size = 3, reg = 1e1)\n",
    "loss_with_reg = model_with_reg.compute_loss_and_gradients(train_X[:2], train_y[:2])\n",
    "assert loss_with_reg > loss and not np.isclose(loss_with_reg, loss), \\\n",
    "    \"Loss with regularization (%2.4f) should be higher than without it (%2.4f)!\" % (loss, loss_with_reg)\n",
    "\n",
    "check_model_gradient(model_with_reg, train_X[:2], train_y[:2])"
   ]
  },
  {
   "cell_type": "markdown",
   "metadata": {},
   "source": [
    "Также реализуем функцию предсказания (вычисления значения) модели на новых данных.\n",
    "\n",
    "Какое значение точности мы ожидаем увидеть до начала тренировки?"
   ]
  },
  {
   "cell_type": "code",
   "execution_count": 8,
   "metadata": {},
   "outputs": [
    {
     "data": {
      "text/plain": [
       "0.1"
      ]
     },
     "execution_count": 8,
     "metadata": {},
     "output_type": "execute_result"
    }
   ],
   "source": [
    "# Finally, implement predict function!\n",
    "\n",
    "# TODO: Implement predict function\n",
    "# What would be the value we expect?\n",
    "multiclass_accuracy(model_with_reg.predict(train_X[:30]), train_y[:30]) "
   ]
  },
  {
   "cell_type": "markdown",
   "metadata": {},
   "source": [
    "# Допишем код для процесса тренировки\n",
    "\n",
    "Если все реализовано корректно, значение функции ошибки должно уменьшаться с каждой эпохой, пусть и медленно. Не беспокойтесь пока про validation accuracy."
   ]
  },
  {
   "cell_type": "code",
   "execution_count": 9,
   "metadata": {},
   "outputs": [
    {
     "name": "stdout",
     "output_type": "stream",
     "text": [
      "Loss: 2.302029, Train accuracy: 0.196667, val accuracy: 0.206000\n",
      "Loss: 2.301685, Train accuracy: 0.196667, val accuracy: 0.206000\n",
      "Loss: 2.301851, Train accuracy: 0.148222, val accuracy: 0.140000\n",
      "Loss: 2.302623, Train accuracy: 0.196667, val accuracy: 0.206000\n",
      "Loss: 2.302031, Train accuracy: 0.196667, val accuracy: 0.206000\n",
      "Loss: 2.301124, Train accuracy: 0.196667, val accuracy: 0.206000\n",
      "Loss: 2.302831, Train accuracy: 0.196667, val accuracy: 0.206000\n",
      "Loss: 2.301638, Train accuracy: 0.196667, val accuracy: 0.206000\n",
      "Loss: 2.302170, Train accuracy: 0.196667, val accuracy: 0.206000\n",
      "Loss: 2.302117, Train accuracy: 0.196667, val accuracy: 0.206000\n",
      "Loss: 2.302455, Train accuracy: 0.196667, val accuracy: 0.206000\n",
      "Loss: 2.302807, Train accuracy: 0.196667, val accuracy: 0.206000\n",
      "Loss: 2.302832, Train accuracy: 0.196667, val accuracy: 0.206000\n",
      "Loss: 2.302390, Train accuracy: 0.196667, val accuracy: 0.206000\n",
      "Loss: 2.303278, Train accuracy: 0.196667, val accuracy: 0.206000\n",
      "Loss: 2.301772, Train accuracy: 0.196667, val accuracy: 0.206000\n",
      "Loss: 2.302333, Train accuracy: 0.196667, val accuracy: 0.206000\n",
      "Loss: 2.302433, Train accuracy: 0.148222, val accuracy: 0.140000\n",
      "Loss: 2.301941, Train accuracy: 0.196667, val accuracy: 0.206000\n",
      "Loss: 2.302173, Train accuracy: 0.196667, val accuracy: 0.206000\n"
     ]
    }
   ],
   "source": [
    "model = TwoLayerNet(n_input = train_X.shape[1], n_output = 10, hidden_layer_size = 100, reg = 1e1)\n",
    "dataset = Dataset(train_X, train_y, val_X, val_y)\n",
    "trainer = Trainer(model, dataset, SGD(), learning_rate = 1e-2)\n",
    "\n",
    "# TODO Implement missing pieces in Trainer.fit function\n",
    "# You should expect loss to go down every epoch, even if it's slow\n",
    "loss_history, train_history, val_history = trainer.fit()"
   ]
  },
  {
   "cell_type": "code",
   "execution_count": 10,
   "metadata": {},
   "outputs": [
    {
     "data": {
      "text/plain": [
       "[<matplotlib.lines.Line2D at 0x7fd4ebe89c10>]"
      ]
     },
     "execution_count": 10,
     "metadata": {},
     "output_type": "execute_result"
    },
    {
     "data": {
      "image/png": "[encoded data removed]",
      "text/plain": [
       "<Figure size 432x288 with 1 Axes>"
      ]
     },
     "metadata": {
      "needs_background": "light"
     },
     "output_type": "display_data"
    }
   ],
   "source": [
    "plt.plot(loss_history)"
   ]
  },
  {
   "cell_type": "code",
   "execution_count": 11,
   "metadata": {},
   "outputs": [
    {
     "data": {
      "text/plain": [
       "[<matplotlib.lines.Line2D at 0x7fd4ebd95100>]"
      ]
     },
     "execution_count": 11,
     "metadata": {},
     "output_type": "execute_result"
    },
    {
     "data": {
      "image/png": "[encoded data removed]",
      "text/plain": [
       "<Figure size 432x288 with 1 Axes>"
      ]
     },
     "metadata": {
      "needs_background": "light"
     },
     "output_type": "display_data"
    }
   ],
   "source": [
    "plt.plot(train_history)\n",
    "plt.plot(val_history)"
   ]
  },
  {
   "cell_type": "markdown",
   "metadata": {},
   "source": [
    "# Улучшаем процесс тренировки\n",
    "\n",
    "Мы реализуем несколько ключевых оптимизаций, необходимых для тренировки современных нейросетей."
   ]
  },
  {
   "cell_type": "markdown",
   "metadata": {},
   "source": [
    "## Уменьшение скорости обучения (learning rate decay)\n",
    "\n",
    "Одна из необходимых оптимизаций во время тренировки нейронных сетей - постепенное уменьшение скорости обучения по мере тренировки.\n",
    "\n",
    "Один из стандартных методов - уменьшение скорости обучения (learning rate) каждые N эпох на коэффициент d (часто называемый decay). Значения N и d, как всегда, являются гиперпараметрами и должны подбираться на основе эффективности на проверочных данных (validation data). \n",
    "\n",
    "В нашем случае N будет равным 1."
   ]
  },
  {
   "cell_type": "code",
   "execution_count": 12,
   "metadata": {},
   "outputs": [
    {
     "name": "stdout",
     "output_type": "stream",
     "text": [
      "Loss: 2.275985, Train accuracy: 0.196667, val accuracy: 0.206000\n",
      "Loss: 2.347515, Train accuracy: 0.196667, val accuracy: 0.206000\n",
      "Loss: 2.264348, Train accuracy: 0.196667, val accuracy: 0.206000\n",
      "Loss: 2.287890, Train accuracy: 0.196667, val accuracy: 0.206000\n",
      "Loss: 2.253264, Train accuracy: 0.196667, val accuracy: 0.206000\n",
      "Loss: 2.265011, Train accuracy: 0.196667, val accuracy: 0.206000\n",
      "Loss: 2.212698, Train accuracy: 0.196667, val accuracy: 0.206000\n",
      "Loss: 2.320777, Train accuracy: 0.196667, val accuracy: 0.206000\n",
      "Loss: 2.302624, Train accuracy: 0.196667, val accuracy: 0.206000\n",
      "Loss: 2.311032, Train accuracy: 0.196667, val accuracy: 0.206000\n",
      "Loss: 2.234316, Train accuracy: 0.196667, val accuracy: 0.206000\n",
      "Loss: 2.283390, Train accuracy: 0.196667, val accuracy: 0.206000\n",
      "Loss: 2.353994, Train accuracy: 0.196667, val accuracy: 0.206000\n",
      "Loss: 2.217454, Train accuracy: 0.196667, val accuracy: 0.206000\n",
      "Loss: 2.378711, Train accuracy: 0.196667, val accuracy: 0.206000\n",
      "Loss: 2.256101, Train accuracy: 0.196667, val accuracy: 0.206000\n",
      "Loss: 2.309860, Train accuracy: 0.196667, val accuracy: 0.206000\n",
      "Loss: 2.264767, Train accuracy: 0.196667, val accuracy: 0.206000\n",
      "Loss: 2.276485, Train accuracy: 0.196667, val accuracy: 0.206000\n",
      "Loss: 2.274562, Train accuracy: 0.196667, val accuracy: 0.206000\n"
     ]
    }
   ],
   "source": [
    "# TODO Implement learning rate decay inside Trainer.fit method\n",
    "# Decay should happen once per epoch\n",
    "\n",
    "model = TwoLayerNet(n_input = train_X.shape[1], n_output = 10, hidden_layer_size = 100, reg = 1e-1)\n",
    "dataset = Dataset(train_X, train_y, val_X, val_y)\n",
    "trainer = Trainer(model, dataset, SGD(), learning_rate_decay=0.99)\n",
    "\n",
    "initial_learning_rate = trainer.learning_rate\n",
    "loss_history, train_history, val_history = trainer.fit()\n",
    "\n",
    "assert trainer.learning_rate < initial_learning_rate, \"Learning rate should've been reduced\"\n",
    "assert trainer.learning_rate > 0.5*initial_learning_rate, \"Learning rate shouldn'tve been reduced that much!\""
   ]
  },
  {
   "cell_type": "code",
   "execution_count": 13,
   "metadata": {},
   "outputs": [
    {
     "data": {
      "text/plain": [
       "[<matplotlib.lines.Line2D at 0x7fd4ebd00c40>]"
      ]
     },
     "execution_count": 13,
     "metadata": {},
     "output_type": "execute_result"
    },
    {
     "data": {
      "image/png": "[encoded data removed]",
      "text/plain": [
       "<Figure size 432x288 with 1 Axes>"
      ]
     },
     "metadata": {
      "needs_background": "light"
     },
     "output_type": "display_data"
    }
   ],
   "source": [
    "plt.plot(loss_history)"
   ]
  },
  {
   "cell_type": "markdown",
   "metadata": {},
   "source": [
    "# Накопление импульса (Momentum SGD)\n",
    "\n",
    "Другой большой класс оптимизаций - использование более эффективных методов градиентного спуска. Мы реализуем один из них - накопление импульса (Momentum SGD).\n",
    "\n",
    "Этот метод хранит скорость движения, использует градиент для ее изменения на каждом шаге, и изменяет веса пропорционально значению скорости.\n",
    "(Физическая аналогия: Вместо скорости градиенты теперь будут задавать ускорение, но будет присутствовать сила трения.)\n",
    "\n",
    "```\n",
    "velocity = momentum * velocity - learning_rate * gradient \n",
    "w = w + velocity\n",
    "```\n",
    "\n",
    "`momentum` здесь коэффициент затухания, который тоже является гиперпараметром (к счастью, для него часто есть хорошее значение по умолчанию, типичный диапазон -- 0.8-0.99).\n",
    "\n",
    "Несколько полезных ссылок, где метод разбирается более подробно:  \n",
    "http://cs231n.github.io/neural-networks-3/#sgd  \n",
    "https://distill.pub/2017/momentum/"
   ]
  },
  {
   "cell_type": "code",
   "execution_count": 14,
   "metadata": {},
   "outputs": [
    {
     "name": "stdout",
     "output_type": "stream",
     "text": [
      "Loss: 2.322051, Train accuracy: 0.196667, val accuracy: 0.206000\n",
      "Loss: 2.308033, Train accuracy: 0.196667, val accuracy: 0.206000\n",
      "Loss: 2.317549, Train accuracy: 0.196667, val accuracy: 0.206000\n",
      "Loss: 2.262630, Train accuracy: 0.196667, val accuracy: 0.206000\n",
      "Loss: 2.270323, Train accuracy: 0.196667, val accuracy: 0.206000\n",
      "Loss: 2.308261, Train accuracy: 0.196667, val accuracy: 0.206000\n",
      "Loss: 2.264990, Train accuracy: 0.196667, val accuracy: 0.206000\n",
      "Loss: 2.278636, Train accuracy: 0.196667, val accuracy: 0.206000\n",
      "Loss: 2.267083, Train accuracy: 0.196667, val accuracy: 0.206000\n",
      "Loss: 2.279901, Train accuracy: 0.196667, val accuracy: 0.206000\n",
      "Loss: 2.276510, Train accuracy: 0.196667, val accuracy: 0.206000\n",
      "Loss: 2.314133, Train accuracy: 0.196667, val accuracy: 0.206000\n",
      "Loss: 2.256404, Train accuracy: 0.196667, val accuracy: 0.206000\n",
      "Loss: 2.295822, Train accuracy: 0.196667, val accuracy: 0.206000\n",
      "Loss: 2.290051, Train accuracy: 0.196667, val accuracy: 0.206000\n",
      "Loss: 2.278750, Train accuracy: 0.196667, val accuracy: 0.206000\n",
      "Loss: 2.280567, Train accuracy: 0.196667, val accuracy: 0.206000\n",
      "Loss: 2.255044, Train accuracy: 0.196667, val accuracy: 0.206000\n",
      "Loss: 2.240982, Train accuracy: 0.196667, val accuracy: 0.206000\n",
      "Loss: 2.315651, Train accuracy: 0.196667, val accuracy: 0.206000\n"
     ]
    }
   ],
   "source": [
    "# TODO: Implement MomentumSGD.update function in optim.py\n",
    "\n",
    "model = TwoLayerNet(n_input = train_X.shape[1], n_output = 10, hidden_layer_size = 100, reg = 1e-1)\n",
    "dataset = Dataset(train_X, train_y, val_X, val_y)\n",
    "trainer = Trainer(model, dataset, MomentumSGD(), learning_rate=1e-4, learning_rate_decay=0.99)\n",
    "\n",
    "# You should see even better results than before!\n",
    "loss_history, train_history, val_history = trainer.fit()"
   ]
  },
  {
   "cell_type": "code",
   "execution_count": 15,
   "metadata": {},
   "outputs": [
    {
     "data": {
      "text/plain": [
       "[<matplotlib.lines.Line2D at 0x7fd4ebc6ac10>]"
      ]
     },
     "execution_count": 15,
     "metadata": {},
     "output_type": "execute_result"
    },
    {
     "data": {
      "image/png": "[encoded data removed]",
      "text/plain": [
       "<Figure size 432x288 with 1 Axes>"
      ]
     },
     "metadata": {
      "needs_background": "light"
     },
     "output_type": "display_data"
    }
   ],
   "source": [
    "plt.plot(loss_history)"
   ]
  },
  {
   "cell_type": "markdown",
   "metadata": {},
   "source": [
    "# Ну что, давайте уже тренировать сеть!"
   ]
  },
  {
   "cell_type": "markdown",
   "metadata": {},
   "source": [
    "## Последний тест - переобучимся (overfit) на маленьком наборе данных\n",
    "\n",
    "Хороший способ проверить, все ли реализовано корректно - переобучить сеть на маленьком наборе данных.  \n",
    "Наша модель обладает достаточной мощностью, чтобы приблизить маленький набор данных идеально, поэтому мы ожидаем, что на нем мы быстро дойдем до 100% точности на тренировочном наборе. \n",
    "\n",
    "Если этого не происходит, то где-то была допущена ошибка!"
   ]
  },
  {
   "cell_type": "code",
   "execution_count": 16,
   "metadata": {},
   "outputs": [
    {
     "name": "stdout",
     "output_type": "stream",
     "text": [
      "Loss: 2.351801, Train accuracy: 0.200000, val accuracy: 0.133333\n",
      "Loss: 2.319693, Train accuracy: 0.200000, val accuracy: 0.133333\n",
      "Loss: 2.295926, Train accuracy: 0.200000, val accuracy: 0.133333\n",
      "Loss: 2.345443, Train accuracy: 0.200000, val accuracy: 0.133333\n",
      "Loss: 2.310013, Train accuracy: 0.200000, val accuracy: 0.133333\n",
      "Loss: 2.326544, Train accuracy: 0.200000, val accuracy: 0.133333\n",
      "Loss: 2.255641, Train accuracy: 0.200000, val accuracy: 0.133333\n",
      "Loss: 2.199259, Train accuracy: 0.200000, val accuracy: 0.066667\n",
      "Loss: 2.164561, Train accuracy: 0.333333, val accuracy: 0.066667\n",
      "Loss: 2.025661, Train accuracy: 0.400000, val accuracy: 0.000000\n",
      "Loss: 1.883798, Train accuracy: 0.400000, val accuracy: 0.000000\n",
      "Loss: 2.263931, Train accuracy: 0.400000, val accuracy: 0.000000\n",
      "Loss: 1.662918, Train accuracy: 0.333333, val accuracy: 0.000000\n",
      "Loss: 2.245522, Train accuracy: 0.333333, val accuracy: 0.000000\n",
      "Loss: 1.943906, Train accuracy: 0.400000, val accuracy: 0.000000\n",
      "Loss: 1.663953, Train accuracy: 0.333333, val accuracy: 0.000000\n",
      "Loss: 2.042200, Train accuracy: 0.400000, val accuracy: 0.000000\n",
      "Loss: 1.418303, Train accuracy: 0.400000, val accuracy: 0.000000\n",
      "Loss: 1.519709, Train accuracy: 0.400000, val accuracy: 0.000000\n",
      "Loss: 1.823944, Train accuracy: 0.466667, val accuracy: 0.000000\n",
      "Loss: 2.022291, Train accuracy: 0.400000, val accuracy: 0.000000\n",
      "Loss: 1.585656, Train accuracy: 0.400000, val accuracy: 0.000000\n",
      "Loss: 1.937038, Train accuracy: 0.400000, val accuracy: 0.066667\n",
      "Loss: 1.908215, Train accuracy: 0.466667, val accuracy: 0.000000\n",
      "Loss: 1.233499, Train accuracy: 0.466667, val accuracy: 0.000000\n",
      "Loss: 2.095108, Train accuracy: 0.466667, val accuracy: 0.000000\n",
      "Loss: 1.718242, Train accuracy: 0.466667, val accuracy: 0.066667\n",
      "Loss: 2.162756, Train accuracy: 0.466667, val accuracy: 0.066667\n",
      "Loss: 2.015933, Train accuracy: 0.466667, val accuracy: 0.000000\n",
      "Loss: 1.363952, Train accuracy: 0.466667, val accuracy: 0.000000\n",
      "Loss: 1.842670, Train accuracy: 0.533333, val accuracy: 0.000000\n",
      "Loss: 1.657567, Train accuracy: 0.533333, val accuracy: 0.066667\n",
      "Loss: 1.388463, Train accuracy: 0.533333, val accuracy: 0.066667\n",
      "Loss: 1.911120, Train accuracy: 0.533333, val accuracy: 0.066667\n",
      "Loss: 1.693765, Train accuracy: 0.600000, val accuracy: 0.000000\n",
      "Loss: 2.010436, Train accuracy: 0.600000, val accuracy: 0.066667\n",
      "Loss: 1.115900, Train accuracy: 0.600000, val accuracy: 0.066667\n",
      "Loss: 1.613706, Train accuracy: 0.600000, val accuracy: 0.066667\n",
      "Loss: 1.738574, Train accuracy: 0.600000, val accuracy: 0.066667\n",
      "Loss: 1.885192, Train accuracy: 0.600000, val accuracy: 0.066667\n",
      "Loss: 2.474042, Train accuracy: 0.666667, val accuracy: 0.066667\n",
      "Loss: 1.119274, Train accuracy: 0.666667, val accuracy: 0.066667\n",
      "Loss: 1.672047, Train accuracy: 0.666667, val accuracy: 0.066667\n",
      "Loss: 1.767860, Train accuracy: 0.666667, val accuracy: 0.066667\n",
      "Loss: 1.478802, Train accuracy: 0.666667, val accuracy: 0.066667\n",
      "Loss: 1.926619, Train accuracy: 0.733333, val accuracy: 0.066667\n",
      "Loss: 1.337383, Train accuracy: 0.733333, val accuracy: 0.066667\n",
      "Loss: 1.683186, Train accuracy: 0.733333, val accuracy: 0.066667\n",
      "Loss: 1.660081, Train accuracy: 0.800000, val accuracy: 0.066667\n",
      "Loss: 1.401881, Train accuracy: 0.733333, val accuracy: 0.133333\n",
      "Loss: 1.635264, Train accuracy: 0.733333, val accuracy: 0.000000\n",
      "Loss: 1.635617, Train accuracy: 0.733333, val accuracy: 0.066667\n",
      "Loss: 1.622938, Train accuracy: 0.733333, val accuracy: 0.066667\n",
      "Loss: 1.854111, Train accuracy: 0.733333, val accuracy: 0.066667\n",
      "Loss: 1.556636, Train accuracy: 0.733333, val accuracy: 0.066667\n",
      "Loss: 1.634732, Train accuracy: 0.733333, val accuracy: 0.066667\n",
      "Loss: 1.076198, Train accuracy: 0.666667, val accuracy: 0.000000\n",
      "Loss: 1.007559, Train accuracy: 0.733333, val accuracy: 0.066667\n",
      "Loss: 1.531114, Train accuracy: 0.733333, val accuracy: 0.066667\n",
      "Loss: 1.041336, Train accuracy: 0.733333, val accuracy: 0.066667\n",
      "Loss: 2.022564, Train accuracy: 0.733333, val accuracy: 0.066667\n",
      "Loss: 1.647379, Train accuracy: 0.733333, val accuracy: 0.066667\n",
      "Loss: 1.369538, Train accuracy: 0.733333, val accuracy: 0.066667\n",
      "Loss: 1.379903, Train accuracy: 0.733333, val accuracy: 0.066667\n",
      "Loss: 1.986917, Train accuracy: 0.733333, val accuracy: 0.066667\n",
      "Loss: 1.318972, Train accuracy: 0.733333, val accuracy: 0.066667\n",
      "Loss: 1.283966, Train accuracy: 0.733333, val accuracy: 0.000000\n",
      "Loss: 0.936269, Train accuracy: 0.733333, val accuracy: 0.066667\n",
      "Loss: 1.196061, Train accuracy: 0.733333, val accuracy: 0.066667\n",
      "Loss: 1.739352, Train accuracy: 0.733333, val accuracy: 0.066667\n",
      "Loss: 1.634901, Train accuracy: 0.733333, val accuracy: 0.066667\n",
      "Loss: 1.201189, Train accuracy: 0.733333, val accuracy: 0.000000\n",
      "Loss: 1.582981, Train accuracy: 0.733333, val accuracy: 0.066667\n",
      "Loss: 1.742143, Train accuracy: 0.733333, val accuracy: 0.066667\n",
      "Loss: 1.293135, Train accuracy: 0.733333, val accuracy: 0.066667\n",
      "Loss: 1.748190, Train accuracy: 0.800000, val accuracy: 0.066667\n",
      "Loss: 1.976545, Train accuracy: 0.800000, val accuracy: 0.000000\n",
      "Loss: 1.357876, Train accuracy: 0.800000, val accuracy: 0.066667\n",
      "Loss: 0.992895, Train accuracy: 0.800000, val accuracy: 0.066667\n",
      "Loss: 1.602046, Train accuracy: 0.800000, val accuracy: 0.066667\n",
      "Loss: 1.602167, Train accuracy: 0.866667, val accuracy: 0.066667\n",
      "Loss: 1.173057, Train accuracy: 0.866667, val accuracy: 0.066667\n",
      "Loss: 1.312798, Train accuracy: 0.866667, val accuracy: 0.000000\n",
      "Loss: 1.564551, Train accuracy: 0.866667, val accuracy: 0.000000\n",
      "Loss: 0.961713, Train accuracy: 0.866667, val accuracy: 0.066667\n",
      "Loss: 1.274091, Train accuracy: 0.866667, val accuracy: 0.066667\n",
      "Loss: 1.304703, Train accuracy: 0.933333, val accuracy: 0.066667\n",
      "Loss: 0.958926, Train accuracy: 0.933333, val accuracy: 0.066667\n",
      "Loss: 1.377168, Train accuracy: 0.866667, val accuracy: 0.066667\n",
      "Loss: 1.657193, Train accuracy: 0.933333, val accuracy: 0.066667\n",
      "Loss: 1.389767, Train accuracy: 0.933333, val accuracy: 0.066667\n",
      "Loss: 1.576803, Train accuracy: 0.933333, val accuracy: 0.066667\n",
      "Loss: 1.556738, Train accuracy: 0.933333, val accuracy: 0.066667\n",
      "Loss: 1.175409, Train accuracy: 0.933333, val accuracy: 0.000000\n",
      "Loss: 1.322616, Train accuracy: 0.933333, val accuracy: 0.066667\n",
      "Loss: 1.251510, Train accuracy: 0.933333, val accuracy: 0.066667\n",
      "Loss: 1.060407, Train accuracy: 0.933333, val accuracy: 0.066667\n",
      "Loss: 1.661861, Train accuracy: 0.933333, val accuracy: 0.066667\n",
      "Loss: 1.227308, Train accuracy: 0.933333, val accuracy: 0.066667\n",
      "Loss: 1.597969, Train accuracy: 0.933333, val accuracy: 0.066667\n",
      "Loss: 1.887250, Train accuracy: 0.933333, val accuracy: 0.066667\n",
      "Loss: 1.338688, Train accuracy: 0.933333, val accuracy: 0.066667\n",
      "Loss: 1.842966, Train accuracy: 0.933333, val accuracy: 0.066667\n",
      "Loss: 1.160604, Train accuracy: 0.933333, val accuracy: 0.066667\n",
      "Loss: 1.347215, Train accuracy: 0.933333, val accuracy: 0.066667\n",
      "Loss: 1.223119, Train accuracy: 0.933333, val accuracy: 0.066667\n",
      "Loss: 1.436648, Train accuracy: 0.933333, val accuracy: 0.000000\n",
      "Loss: 1.535320, Train accuracy: 0.933333, val accuracy: 0.066667\n",
      "Loss: 1.249121, Train accuracy: 0.933333, val accuracy: 0.066667\n",
      "Loss: 1.248964, Train accuracy: 0.933333, val accuracy: 0.000000\n",
      "Loss: 1.549803, Train accuracy: 1.000000, val accuracy: 0.066667\n",
      "Loss: 1.259687, Train accuracy: 0.933333, val accuracy: 0.000000\n",
      "Loss: 1.097239, Train accuracy: 1.000000, val accuracy: 0.000000\n",
      "Loss: 1.324286, Train accuracy: 0.933333, val accuracy: 0.000000\n",
      "Loss: 1.315431, Train accuracy: 0.933333, val accuracy: 0.000000\n",
      "Loss: 1.420746, Train accuracy: 1.000000, val accuracy: 0.000000\n",
      "Loss: 1.443017, Train accuracy: 0.933333, val accuracy: 0.000000\n",
      "Loss: 1.301618, Train accuracy: 1.000000, val accuracy: 0.000000\n",
      "Loss: 1.533658, Train accuracy: 1.000000, val accuracy: 0.000000\n",
      "Loss: 1.607993, Train accuracy: 1.000000, val accuracy: 0.000000\n",
      "Loss: 1.239065, Train accuracy: 0.933333, val accuracy: 0.000000\n",
      "Loss: 1.649177, Train accuracy: 1.000000, val accuracy: 0.000000\n",
      "Loss: 1.174445, Train accuracy: 1.000000, val accuracy: 0.000000\n",
      "Loss: 1.602848, Train accuracy: 1.000000, val accuracy: 0.000000\n",
      "Loss: 1.363682, Train accuracy: 1.000000, val accuracy: 0.000000\n",
      "Loss: 1.160640, Train accuracy: 1.000000, val accuracy: 0.000000\n",
      "Loss: 1.197888, Train accuracy: 1.000000, val accuracy: 0.000000\n",
      "Loss: 1.126413, Train accuracy: 1.000000, val accuracy: 0.000000\n",
      "Loss: 1.008120, Train accuracy: 1.000000, val accuracy: 0.000000\n",
      "Loss: 1.643235, Train accuracy: 1.000000, val accuracy: 0.000000\n",
      "Loss: 1.592807, Train accuracy: 1.000000, val accuracy: 0.000000\n",
      "Loss: 1.412599, Train accuracy: 1.000000, val accuracy: 0.000000\n",
      "Loss: 1.212850, Train accuracy: 1.000000, val accuracy: 0.000000\n",
      "Loss: 1.196541, Train accuracy: 0.933333, val accuracy: 0.000000\n",
      "Loss: 1.280346, Train accuracy: 1.000000, val accuracy: 0.000000\n",
      "Loss: 1.403204, Train accuracy: 1.000000, val accuracy: 0.000000\n",
      "Loss: 1.229377, Train accuracy: 1.000000, val accuracy: 0.000000\n"
     ]
    },
    {
     "name": "stdout",
     "output_type": "stream",
     "text": [
      "Loss: 1.400568, Train accuracy: 1.000000, val accuracy: 0.000000\n",
      "Loss: 1.391042, Train accuracy: 1.000000, val accuracy: 0.000000\n",
      "Loss: 1.102808, Train accuracy: 1.000000, val accuracy: 0.000000\n",
      "Loss: 1.445285, Train accuracy: 1.000000, val accuracy: 0.000000\n",
      "Loss: 1.406323, Train accuracy: 1.000000, val accuracy: 0.000000\n",
      "Loss: 1.219193, Train accuracy: 1.000000, val accuracy: 0.000000\n",
      "Loss: 1.449330, Train accuracy: 1.000000, val accuracy: 0.000000\n",
      "Loss: 1.304464, Train accuracy: 1.000000, val accuracy: 0.000000\n",
      "Loss: 1.494726, Train accuracy: 1.000000, val accuracy: 0.000000\n",
      "Loss: 1.327706, Train accuracy: 1.000000, val accuracy: 0.000000\n",
      "Loss: 1.361608, Train accuracy: 1.000000, val accuracy: 0.000000\n",
      "Loss: 1.460816, Train accuracy: 1.000000, val accuracy: 0.000000\n",
      "Loss: 1.424061, Train accuracy: 1.000000, val accuracy: 0.000000\n"
     ]
    }
   ],
   "source": [
    "data_size = 15\n",
    "model = TwoLayerNet(n_input = train_X.shape[1], n_output = 10, hidden_layer_size = 100, reg = 1e-1)\n",
    "dataset = Dataset(train_X[:data_size], train_y[:data_size], val_X[:data_size], val_y[:data_size])\n",
    "trainer = Trainer(model, dataset, SGD(), learning_rate=1e-1, num_epochs=150, batch_size=5)\n",
    "\n",
    "# You should expect this to reach 1.0 training accuracy \n",
    "loss_history, train_history, val_history = trainer.fit()"
   ]
  },
  {
   "cell_type": "markdown",
   "metadata": {},
   "source": [
    "Теперь найдем гипепараметры, для которых этот процесс сходится быстрее.\n",
    "Если все реализовано корректно, то существуют параметры, при которых процесс сходится в **20** эпох или еще быстрее.\n",
    "Найдите их!"
   ]
  },
  {
   "cell_type": "code",
   "execution_count": 17,
   "metadata": {},
   "outputs": [
    {
     "data": {
      "text/plain": [
       "<matplotlib.legend.Legend at 0x7fd4ebc58fa0>"
      ]
     },
     "execution_count": 17,
     "metadata": {},
     "output_type": "execute_result"
    },
    {
     "data": {
      "image/png": "[encoded data removed]",
      "text/plain": [
       "<Figure size 432x288 with 1 Axes>"
      ]
     },
     "metadata": {
      "needs_background": "light"
     },
     "output_type": "display_data"
    }
   ],
   "source": [
    "plt.plot(train_history, label='Train Accuracy')\n",
    "plt.plot(val_history, label='Val Accuracy')\n",
    "plt.legend()"
   ]
  },
  {
   "cell_type": "code",
   "execution_count": 18,
   "metadata": {},
   "outputs": [
    {
     "data": {
      "text/plain": [
       "[<matplotlib.lines.Line2D at 0x7fd4ebbd3e50>]"
      ]
     },
     "execution_count": 18,
     "metadata": {},
     "output_type": "execute_result"
    },
    {
     "data": {
      "image/png": "[encoded data removed]",
      "text/plain": [
       "<Figure size 432x288 with 1 Axes>"
      ]
     },
     "metadata": {
      "needs_background": "light"
     },
     "output_type": "display_data"
    }
   ],
   "source": [
    "plt.plot(loss_history)"
   ]
  },
  {
   "cell_type": "code",
   "execution_count": 47,
   "metadata": {},
   "outputs": [
    {
     "name": "stdout",
     "output_type": "stream",
     "text": [
      "Loss: 2.328856, Train accuracy: 0.400000, val accuracy: 0.200000\n",
      "Loss: 2.405255, Train accuracy: 0.200000, val accuracy: 0.066667\n",
      "Loss: 2.447530, Train accuracy: 0.400000, val accuracy: 0.000000\n",
      "Loss: 2.462532, Train accuracy: 0.333333, val accuracy: 0.000000\n",
      "Loss: 1.253703, Train accuracy: 0.333333, val accuracy: 0.000000\n",
      "Loss: 3.246697, Train accuracy: 0.400000, val accuracy: 0.066667\n",
      "Loss: 2.093387, Train accuracy: 0.466667, val accuracy: 0.066667\n",
      "Loss: 0.084749, Train accuracy: 0.400000, val accuracy: 0.000000\n",
      "Loss: 2.288405, Train accuracy: 0.733333, val accuracy: 0.000000\n",
      "Loss: 2.396221, Train accuracy: 0.666667, val accuracy: 0.000000\n",
      "Loss: 2.298879, Train accuracy: 0.533333, val accuracy: 0.000000\n",
      "Loss: 2.301516, Train accuracy: 0.733333, val accuracy: 0.066667\n",
      "Loss: 0.318488, Train accuracy: 0.800000, val accuracy: 0.000000\n",
      "Loss: 0.650783, Train accuracy: 0.800000, val accuracy: 0.133333\n",
      "Loss: 0.031406, Train accuracy: 0.933333, val accuracy: 0.000000\n",
      "Loss: 0.113154, Train accuracy: 0.933333, val accuracy: 0.066667\n",
      "Loss: 1.246495, Train accuracy: 1.000000, val accuracy: 0.000000\n",
      "Loss: 0.019378, Train accuracy: 1.000000, val accuracy: 0.066667\n",
      "Loss: 0.049808, Train accuracy: 1.000000, val accuracy: 0.000000\n",
      "Loss: 0.025788, Train accuracy: 1.000000, val accuracy: 0.000000\n"
     ]
    }
   ],
   "source": [
    "# Now, tweak some hyper parameters and make it train to 1.0 accuracy in 20 epochs or less\n",
    "\n",
    "model = TwoLayerNet(n_input = train_X.shape[1], n_output = 10, hidden_layer_size = 500, reg = 1e-3)\n",
    "dataset = Dataset(train_X[:data_size], train_y[:data_size], val_X[:data_size], val_y[:data_size])\n",
    "# TODO: Change any hyperparamers or optimizators to reach training accuracy in 20 epochs\n",
    "trainer = Trainer(model, dataset, SGD(), learning_rate=1e-1, num_epochs=20, batch_size=2)\n",
    "\n",
    "loss_history, train_history, val_history = trainer.fit()"
   ]
  },
  {
   "cell_type": "code",
   "execution_count": 48,
   "metadata": {},
   "outputs": [
    {
     "data": {
      "text/plain": [
       "[<matplotlib.lines.Line2D at 0x7fd4eacda790>]"
      ]
     },
     "execution_count": 48,
     "metadata": {},
     "output_type": "execute_result"
    },
    {
     "data": {
      "image/png": "[encoded data removed]",
      "text/plain": [
       "<Figure size 432x288 with 1 Axes>"
      ]
     },
     "metadata": {
      "needs_background": "light"
     },
     "output_type": "display_data"
    }
   ],
   "source": [
    "plt.plot(loss_history)"
   ]
  },
  {
   "cell_type": "code",
   "execution_count": 49,
   "metadata": {},
   "outputs": [
    {
     "data": {
      "text/plain": [
       "<matplotlib.legend.Legend at 0x7fd4ebb30790>"
      ]
     },
     "execution_count": 49,
     "metadata": {},
     "output_type": "execute_result"
    },
    {
     "data": {
      "image/png": "[encoded data removed]",
      "text/plain": [
       "<Figure size 432x288 with 1 Axes>"
      ]
     },
     "metadata": {
      "needs_background": "light"
     },
     "output_type": "display_data"
    }
   ],
   "source": [
    "plt.plot(train_history, label='Train Accuracy')\n",
    "plt.plot(val_history, label='Val Accuracy')\n",
    "plt.legend()"
   ]
  },
  {
   "cell_type": "markdown",
   "metadata": {},
   "source": [
    "# Итак, основное мероприятие!\n",
    "\n",
    "Натренируйте лучшую нейросеть! Можно добавлять и изменять параметры, менять количество нейронов в слоях сети и как угодно экспериментировать. \n",
    "\n",
    "Добейтесь точности лучше **60%** на validation set."
   ]
  },
  {
   "cell_type": "code",
   "execution_count": 54,
   "metadata": {
    "scrolled": true
   },
   "outputs": [
    {
     "name": "stdout",
     "output_type": "stream",
     "text": [
      "\n",
      "Fitting: learning rate = 0.01, hidden_layer_size = 256\n",
      "\n",
      "Loss: 2.225232, Train accuracy: 0.196667, val accuracy: 0.206000\n",
      "Loss: 2.221333, Train accuracy: 0.196667, val accuracy: 0.206000\n",
      "Loss: 2.161091, Train accuracy: 0.210556, val accuracy: 0.214000\n",
      "Loss: 2.152510, Train accuracy: 0.274556, val accuracy: 0.275000\n",
      "Loss: 1.894395, Train accuracy: 0.351778, val accuracy: 0.347000\n",
      "Loss: 1.864025, Train accuracy: 0.419222, val accuracy: 0.406000\n",
      "Loss: 1.574804, Train accuracy: 0.504889, val accuracy: 0.507000\n",
      "Loss: 1.270808, Train accuracy: 0.560111, val accuracy: 0.551000\n",
      "Loss: 1.390697, Train accuracy: 0.616333, val accuracy: 0.592000\n",
      "Loss: 0.969817, Train accuracy: 0.650667, val accuracy: 0.626000\n",
      "Loss: 1.252839, Train accuracy: 0.665222, val accuracy: 0.661000\n",
      "Loss: 1.116495, Train accuracy: 0.691889, val accuracy: 0.683000\n",
      "Loss: 1.177368, Train accuracy: 0.691444, val accuracy: 0.663000\n",
      "Loss: 1.238574, Train accuracy: 0.713778, val accuracy: 0.687000\n",
      "Loss: 0.982199, Train accuracy: 0.714222, val accuracy: 0.691000\n",
      "Loss: 0.969985, Train accuracy: 0.736667, val accuracy: 0.702000\n",
      "Loss: 0.761758, Train accuracy: 0.739889, val accuracy: 0.714000\n",
      "Loss: 1.117724, Train accuracy: 0.748778, val accuracy: 0.700000\n",
      "Loss: 0.918936, Train accuracy: 0.755000, val accuracy: 0.712000\n",
      "Loss: 0.812997, Train accuracy: 0.754444, val accuracy: 0.716000\n",
      "Loss: 1.054164, Train accuracy: 0.776222, val accuracy: 0.724000\n",
      "Loss: 0.996232, Train accuracy: 0.781667, val accuracy: 0.710000\n",
      "Loss: 1.197328, Train accuracy: 0.787889, val accuracy: 0.732000\n",
      "Loss: 0.888572, Train accuracy: 0.797556, val accuracy: 0.730000\n",
      "Loss: 0.902795, Train accuracy: 0.796889, val accuracy: 0.731000\n",
      "Loss: 0.903839, Train accuracy: 0.814444, val accuracy: 0.741000\n",
      "Loss: 1.188424, Train accuracy: 0.807778, val accuracy: 0.736000\n",
      "Loss: 1.089948, Train accuracy: 0.821889, val accuracy: 0.734000\n",
      "Loss: 0.758291, Train accuracy: 0.815000, val accuracy: 0.744000\n",
      "Loss: 0.906970, Train accuracy: 0.825333, val accuracy: 0.748000\n",
      "Loss: 0.954941, Train accuracy: 0.828333, val accuracy: 0.747000\n",
      "Loss: 0.705198, Train accuracy: 0.831333, val accuracy: 0.742000\n",
      "Loss: 1.144414, Train accuracy: 0.834222, val accuracy: 0.743000\n",
      "Loss: 0.918186, Train accuracy: 0.848667, val accuracy: 0.760000\n",
      "Loss: 1.113499, Train accuracy: 0.850444, val accuracy: 0.758000\n",
      "Loss: 0.806811, Train accuracy: 0.862667, val accuracy: 0.757000\n",
      "Loss: 0.669745, Train accuracy: 0.855889, val accuracy: 0.768000\n",
      "Loss: 0.867847, Train accuracy: 0.856778, val accuracy: 0.759000\n",
      "Loss: 0.894740, Train accuracy: 0.858222, val accuracy: 0.768000\n",
      "Loss: 0.788240, Train accuracy: 0.859333, val accuracy: 0.764000\n",
      "Loss: 0.709626, Train accuracy: 0.872444, val accuracy: 0.766000\n",
      "Loss: 0.925190, Train accuracy: 0.862333, val accuracy: 0.758000\n",
      "Loss: 0.713046, Train accuracy: 0.856556, val accuracy: 0.762000\n",
      "Loss: 1.015564, Train accuracy: 0.874667, val accuracy: 0.773000\n",
      "Loss: 0.931519, Train accuracy: 0.877222, val accuracy: 0.772000\n",
      "Loss: 0.764883, Train accuracy: 0.886556, val accuracy: 0.770000\n",
      "Loss: 0.726381, Train accuracy: 0.871000, val accuracy: 0.744000\n",
      "Loss: 0.611367, Train accuracy: 0.883667, val accuracy: 0.772000\n",
      "Loss: 0.819987, Train accuracy: 0.887333, val accuracy: 0.768000\n",
      "Loss: 0.886074, Train accuracy: 0.892667, val accuracy: 0.786000\n",
      "Loss: 0.938159, Train accuracy: 0.897889, val accuracy: 0.783000\n",
      "Loss: 0.764300, Train accuracy: 0.890333, val accuracy: 0.778000\n",
      "Loss: 0.865229, Train accuracy: 0.896111, val accuracy: 0.786000\n",
      "Loss: 0.980636, Train accuracy: 0.896111, val accuracy: 0.779000\n",
      "Loss: 0.750339, Train accuracy: 0.893444, val accuracy: 0.776000\n",
      "Loss: 0.719170, Train accuracy: 0.893222, val accuracy: 0.785000\n",
      "Loss: 0.712756, Train accuracy: 0.893000, val accuracy: 0.781000\n",
      "Loss: 0.705667, Train accuracy: 0.887667, val accuracy: 0.763000\n",
      "Loss: 0.832353, Train accuracy: 0.909444, val accuracy: 0.775000\n",
      "Loss: 0.770098, Train accuracy: 0.898444, val accuracy: 0.779000\n",
      "Loss: 0.738886, Train accuracy: 0.911111, val accuracy: 0.783000\n",
      "Loss: 0.680418, Train accuracy: 0.901889, val accuracy: 0.778000\n",
      "Loss: 1.040451, Train accuracy: 0.899889, val accuracy: 0.769000\n",
      "Loss: 0.723579, Train accuracy: 0.913889, val accuracy: 0.785000\n",
      "Loss: 0.725699, Train accuracy: 0.890222, val accuracy: 0.770000\n",
      "Loss: 0.925760, Train accuracy: 0.914556, val accuracy: 0.780000\n",
      "Loss: 0.762072, Train accuracy: 0.917667, val accuracy: 0.794000\n",
      "Loss: 0.701191, Train accuracy: 0.907667, val accuracy: 0.778000\n",
      "Loss: 0.805086, Train accuracy: 0.911778, val accuracy: 0.781000\n",
      "Loss: 0.881373, Train accuracy: 0.906444, val accuracy: 0.769000\n",
      "Loss: 0.688690, Train accuracy: 0.910667, val accuracy: 0.784000\n",
      "Loss: 0.745952, Train accuracy: 0.921111, val accuracy: 0.777000\n",
      "Loss: 0.757925, Train accuracy: 0.918778, val accuracy: 0.782000\n",
      "Loss: 0.777059, Train accuracy: 0.923000, val accuracy: 0.791000\n",
      "Loss: 0.645785, Train accuracy: 0.920778, val accuracy: 0.781000\n",
      "Loss: 0.685983, Train accuracy: 0.930222, val accuracy: 0.792000\n",
      "Loss: 0.796811, Train accuracy: 0.921000, val accuracy: 0.784000\n",
      "Loss: 0.842255, Train accuracy: 0.913111, val accuracy: 0.776000\n",
      "Loss: 0.857769, Train accuracy: 0.926556, val accuracy: 0.778000\n",
      "Loss: 0.731789, Train accuracy: 0.925556, val accuracy: 0.782000\n",
      "Loss: 0.705796, Train accuracy: 0.916000, val accuracy: 0.779000\n",
      "Loss: 0.686596, Train accuracy: 0.925333, val accuracy: 0.786000\n",
      "Loss: 0.684066, Train accuracy: 0.915667, val accuracy: 0.769000\n",
      "Loss: 0.747485, Train accuracy: 0.930556, val accuracy: 0.781000\n",
      "Loss: 0.720412, Train accuracy: 0.906000, val accuracy: 0.771000\n",
      "Loss: 0.758229, Train accuracy: 0.924889, val accuracy: 0.782000\n",
      "Loss: 0.749758, Train accuracy: 0.934111, val accuracy: 0.783000\n",
      "Loss: 0.616322, Train accuracy: 0.933778, val accuracy: 0.781000\n",
      "Loss: 0.697035, Train accuracy: 0.928889, val accuracy: 0.784000\n",
      "Loss: 0.668953, Train accuracy: 0.924000, val accuracy: 0.786000\n",
      "Loss: 0.674929, Train accuracy: 0.937556, val accuracy: 0.779000\n",
      "Loss: 0.753987, Train accuracy: 0.938444, val accuracy: 0.791000\n",
      "Loss: 0.673070, Train accuracy: 0.933222, val accuracy: 0.784000\n",
      "Loss: 0.661556, Train accuracy: 0.938000, val accuracy: 0.792000\n",
      "Loss: 0.692546, Train accuracy: 0.925222, val accuracy: 0.781000\n",
      "Loss: 0.868475, Train accuracy: 0.929778, val accuracy: 0.787000\n",
      "Loss: 0.694787, Train accuracy: 0.912889, val accuracy: 0.767000\n",
      "Loss: 0.627355, Train accuracy: 0.914444, val accuracy: 0.776000\n",
      "Loss: 0.622131, Train accuracy: 0.933889, val accuracy: 0.784000\n",
      "Loss: 0.752361, Train accuracy: 0.937222, val accuracy: 0.788000\n",
      "Loss: 0.624991, Train accuracy: 0.945667, val accuracy: 0.787000\n",
      "Loss: 0.716162, Train accuracy: 0.935444, val accuracy: 0.783000\n",
      "Loss: 0.825519, Train accuracy: 0.934444, val accuracy: 0.800000\n",
      "Loss: 0.713725, Train accuracy: 0.923556, val accuracy: 0.782000\n",
      "Loss: 0.742282, Train accuracy: 0.931556, val accuracy: 0.786000\n",
      "Loss: 0.761899, Train accuracy: 0.932333, val accuracy: 0.786000\n",
      "Loss: 0.677853, Train accuracy: 0.931111, val accuracy: 0.788000\n",
      "Loss: 0.896475, Train accuracy: 0.944889, val accuracy: 0.789000\n",
      "Loss: 0.565804, Train accuracy: 0.931333, val accuracy: 0.786000\n",
      "Loss: 0.801735, Train accuracy: 0.935556, val accuracy: 0.785000\n",
      "Loss: 0.608088, Train accuracy: 0.937222, val accuracy: 0.791000\n",
      "Loss: 0.665206, Train accuracy: 0.936556, val accuracy: 0.788000\n",
      "Loss: 0.691828, Train accuracy: 0.944889, val accuracy: 0.791000\n",
      "Loss: 0.751378, Train accuracy: 0.933444, val accuracy: 0.785000\n",
      "Loss: 0.624601, Train accuracy: 0.941889, val accuracy: 0.788000\n",
      "Loss: 0.727635, Train accuracy: 0.933111, val accuracy: 0.788000\n",
      "Loss: 0.665700, Train accuracy: 0.940333, val accuracy: 0.779000\n",
      "Loss: 0.819241, Train accuracy: 0.933333, val accuracy: 0.783000\n",
      "Loss: 0.583360, Train accuracy: 0.943000, val accuracy: 0.778000\n",
      "Loss: 0.694168, Train accuracy: 0.934556, val accuracy: 0.785000\n",
      "Loss: 0.577555, Train accuracy: 0.940000, val accuracy: 0.786000\n",
      "Loss: 0.625115, Train accuracy: 0.943333, val accuracy: 0.788000\n",
      "Loss: 0.941464, Train accuracy: 0.942222, val accuracy: 0.790000\n",
      "Loss: 0.649417, Train accuracy: 0.948111, val accuracy: 0.785000\n",
      "Loss: 0.805771, Train accuracy: 0.939333, val accuracy: 0.789000\n",
      "Loss: 0.798203, Train accuracy: 0.945222, val accuracy: 0.797000\n"
     ]
    },
    {
     "name": "stdout",
     "output_type": "stream",
     "text": [
      "Loss: 0.620507, Train accuracy: 0.944667, val accuracy: 0.778000\n",
      "Loss: 0.653456, Train accuracy: 0.945333, val accuracy: 0.788000\n",
      "Loss: 0.766547, Train accuracy: 0.939556, val accuracy: 0.776000\n",
      "Loss: 0.670782, Train accuracy: 0.942889, val accuracy: 0.788000\n",
      "Loss: 0.618445, Train accuracy: 0.944889, val accuracy: 0.800000\n",
      "Loss: 0.663022, Train accuracy: 0.952222, val accuracy: 0.794000\n",
      "Loss: 0.819241, Train accuracy: 0.944889, val accuracy: 0.787000\n",
      "Loss: 0.841703, Train accuracy: 0.949111, val accuracy: 0.797000\n",
      "Loss: 0.815499, Train accuracy: 0.948222, val accuracy: 0.783000\n",
      "Loss: 0.787328, Train accuracy: 0.945667, val accuracy: 0.785000\n",
      "Loss: 0.754863, Train accuracy: 0.935000, val accuracy: 0.781000\n",
      "Loss: 0.530458, Train accuracy: 0.923333, val accuracy: 0.772000\n",
      "Loss: 0.692170, Train accuracy: 0.947667, val accuracy: 0.791000\n",
      "Loss: 0.725708, Train accuracy: 0.947778, val accuracy: 0.792000\n",
      "Loss: 0.556422, Train accuracy: 0.940889, val accuracy: 0.790000\n",
      "Loss: 0.672439, Train accuracy: 0.949444, val accuracy: 0.790000\n",
      "Loss: 0.613626, Train accuracy: 0.948111, val accuracy: 0.796000\n",
      "Loss: 0.589747, Train accuracy: 0.946111, val accuracy: 0.789000\n",
      "Loss: 0.780766, Train accuracy: 0.947444, val accuracy: 0.779000\n",
      "Loss: 0.721950, Train accuracy: 0.948222, val accuracy: 0.790000\n",
      "Loss: 0.617180, Train accuracy: 0.949667, val accuracy: 0.795000\n",
      "Loss: 0.579785, Train accuracy: 0.950333, val accuracy: 0.792000\n",
      "Loss: 0.823823, Train accuracy: 0.949333, val accuracy: 0.784000\n",
      "Loss: 0.644436, Train accuracy: 0.950444, val accuracy: 0.788000\n",
      "Loss: 0.636897, Train accuracy: 0.946889, val accuracy: 0.790000\n",
      "Loss: 0.802879, Train accuracy: 0.945333, val accuracy: 0.778000\n",
      "Loss: 0.623729, Train accuracy: 0.954778, val accuracy: 0.789000\n",
      "Loss: 0.716518, Train accuracy: 0.942000, val accuracy: 0.786000\n",
      "Loss: 0.712018, Train accuracy: 0.953111, val accuracy: 0.789000\n",
      "Loss: 0.596544, Train accuracy: 0.951333, val accuracy: 0.784000\n",
      "Loss: 0.717502, Train accuracy: 0.929333, val accuracy: 0.779000\n",
      "Loss: 0.687161, Train accuracy: 0.948000, val accuracy: 0.782000\n",
      "Loss: 0.791347, Train accuracy: 0.956889, val accuracy: 0.795000\n",
      "Loss: 0.530050, Train accuracy: 0.955000, val accuracy: 0.794000\n",
      "Loss: 0.640776, Train accuracy: 0.953444, val accuracy: 0.793000\n",
      "Loss: 0.717467, Train accuracy: 0.950333, val accuracy: 0.790000\n",
      "Loss: 0.708686, Train accuracy: 0.949000, val accuracy: 0.794000\n",
      "Loss: 0.673408, Train accuracy: 0.951778, val accuracy: 0.798000\n",
      "Loss: 0.623855, Train accuracy: 0.949556, val accuracy: 0.782000\n",
      "Loss: 0.683466, Train accuracy: 0.948222, val accuracy: 0.777000\n",
      "Loss: 0.658994, Train accuracy: 0.949889, val accuracy: 0.800000\n",
      "Loss: 0.718614, Train accuracy: 0.950444, val accuracy: 0.800000\n",
      "Loss: 0.625315, Train accuracy: 0.951444, val accuracy: 0.784000\n",
      "Loss: 0.606326, Train accuracy: 0.950556, val accuracy: 0.792000\n",
      "Loss: 0.556595, Train accuracy: 0.940556, val accuracy: 0.787000\n",
      "Loss: 0.775176, Train accuracy: 0.945222, val accuracy: 0.788000\n",
      "Loss: 0.722978, Train accuracy: 0.946444, val accuracy: 0.795000\n",
      "Loss: 0.698534, Train accuracy: 0.936667, val accuracy: 0.775000\n",
      "Loss: 0.701802, Train accuracy: 0.946778, val accuracy: 0.787000\n",
      "Loss: 0.642629, Train accuracy: 0.956222, val accuracy: 0.794000\n",
      "Loss: 0.673576, Train accuracy: 0.946222, val accuracy: 0.787000\n",
      "Loss: 0.624461, Train accuracy: 0.934444, val accuracy: 0.785000\n",
      "Loss: 0.742461, Train accuracy: 0.941778, val accuracy: 0.785000\n",
      "Loss: 0.644416, Train accuracy: 0.950889, val accuracy: 0.787000\n",
      "Loss: 0.709113, Train accuracy: 0.950556, val accuracy: 0.787000\n",
      "Loss: 0.746213, Train accuracy: 0.947556, val accuracy: 0.787000\n",
      "Loss: 0.749467, Train accuracy: 0.954111, val accuracy: 0.789000\n",
      "Loss: 0.846299, Train accuracy: 0.951333, val accuracy: 0.790000\n",
      "Loss: 0.610986, Train accuracy: 0.957667, val accuracy: 0.798000\n",
      "Loss: 0.667497, Train accuracy: 0.953556, val accuracy: 0.791000\n",
      "Loss: 0.650857, Train accuracy: 0.952889, val accuracy: 0.792000\n",
      "Loss: 0.690805, Train accuracy: 0.960778, val accuracy: 0.785000\n",
      "Loss: 0.659132, Train accuracy: 0.953444, val accuracy: 0.791000\n",
      "Loss: 0.613048, Train accuracy: 0.946333, val accuracy: 0.789000\n",
      "Loss: 0.637986, Train accuracy: 0.957333, val accuracy: 0.794000\n",
      "Loss: 0.707611, Train accuracy: 0.953000, val accuracy: 0.794000\n",
      "Loss: 0.749415, Train accuracy: 0.943222, val accuracy: 0.773000\n",
      "Loss: 0.504523, Train accuracy: 0.959444, val accuracy: 0.799000\n",
      "Loss: 0.780514, Train accuracy: 0.956111, val accuracy: 0.793000\n",
      "Loss: 0.690810, Train accuracy: 0.961111, val accuracy: 0.799000\n",
      "Loss: 0.684315, Train accuracy: 0.945222, val accuracy: 0.780000\n",
      "Loss: 0.838202, Train accuracy: 0.949222, val accuracy: 0.780000\n",
      "Loss: 0.902775, Train accuracy: 0.952444, val accuracy: 0.792000\n",
      "Loss: 0.716874, Train accuracy: 0.950556, val accuracy: 0.782000\n",
      "Resulting accuracy is 0.782\n",
      "\n",
      "\n",
      "Fitting: learning rate = 0.01, hidden_layer_size = 128\n",
      "\n",
      "Loss: 2.202694, Train accuracy: 0.196667, val accuracy: 0.206000\n",
      "Loss: 2.094345, Train accuracy: 0.196667, val accuracy: 0.206000\n",
      "Loss: 2.207383, Train accuracy: 0.199444, val accuracy: 0.207000\n",
      "Loss: 2.048224, Train accuracy: 0.269778, val accuracy: 0.269000\n",
      "Loss: 1.993659, Train accuracy: 0.325444, val accuracy: 0.325000\n",
      "Loss: 1.737764, Train accuracy: 0.418889, val accuracy: 0.412000\n",
      "Loss: 1.628307, Train accuracy: 0.480333, val accuracy: 0.477000\n",
      "Loss: 1.650272, Train accuracy: 0.511222, val accuracy: 0.506000\n",
      "Loss: 1.844774, Train accuracy: 0.585333, val accuracy: 0.582000\n",
      "Loss: 1.142504, Train accuracy: 0.619778, val accuracy: 0.599000\n",
      "Loss: 1.034684, Train accuracy: 0.636111, val accuracy: 0.626000\n",
      "Loss: 0.809302, Train accuracy: 0.669444, val accuracy: 0.655000\n",
      "Loss: 1.316796, Train accuracy: 0.691667, val accuracy: 0.675000\n",
      "Loss: 1.307282, Train accuracy: 0.696667, val accuracy: 0.669000\n",
      "Loss: 0.803522, Train accuracy: 0.702667, val accuracy: 0.669000\n",
      "Loss: 1.070322, Train accuracy: 0.726778, val accuracy: 0.700000\n",
      "Loss: 0.861651, Train accuracy: 0.734444, val accuracy: 0.695000\n",
      "Loss: 1.023322, Train accuracy: 0.737111, val accuracy: 0.698000\n",
      "Loss: 1.004694, Train accuracy: 0.749778, val accuracy: 0.708000\n",
      "Loss: 0.969991, Train accuracy: 0.754667, val accuracy: 0.711000\n",
      "Loss: 0.907762, Train accuracy: 0.755667, val accuracy: 0.714000\n",
      "Loss: 0.908471, Train accuracy: 0.771556, val accuracy: 0.720000\n",
      "Loss: 0.891950, Train accuracy: 0.779889, val accuracy: 0.737000\n",
      "Loss: 1.111092, Train accuracy: 0.782000, val accuracy: 0.727000\n",
      "Loss: 1.030257, Train accuracy: 0.792000, val accuracy: 0.730000\n",
      "Loss: 0.978020, Train accuracy: 0.781111, val accuracy: 0.715000\n",
      "Loss: 0.679006, Train accuracy: 0.792556, val accuracy: 0.728000\n",
      "Loss: 1.076781, Train accuracy: 0.815111, val accuracy: 0.752000\n",
      "Loss: 0.602612, Train accuracy: 0.810111, val accuracy: 0.742000\n",
      "Loss: 0.926779, Train accuracy: 0.817000, val accuracy: 0.742000\n",
      "Loss: 1.129057, Train accuracy: 0.818444, val accuracy: 0.745000\n",
      "Loss: 0.714335, Train accuracy: 0.822444, val accuracy: 0.752000\n",
      "Loss: 0.988274, Train accuracy: 0.834222, val accuracy: 0.758000\n",
      "Loss: 0.744968, Train accuracy: 0.825000, val accuracy: 0.746000\n",
      "Loss: 0.813711, Train accuracy: 0.831667, val accuracy: 0.754000\n",
      "Loss: 0.933158, Train accuracy: 0.837889, val accuracy: 0.753000\n",
      "Loss: 0.909593, Train accuracy: 0.855778, val accuracy: 0.767000\n",
      "Loss: 0.651516, Train accuracy: 0.844000, val accuracy: 0.751000\n",
      "Loss: 0.822035, Train accuracy: 0.850000, val accuracy: 0.763000\n",
      "Loss: 0.931126, Train accuracy: 0.852444, val accuracy: 0.754000\n",
      "Loss: 0.829897, Train accuracy: 0.853778, val accuracy: 0.752000\n",
      "Loss: 0.972563, Train accuracy: 0.856778, val accuracy: 0.750000\n",
      "Loss: 0.672400, Train accuracy: 0.860000, val accuracy: 0.763000\n",
      "Loss: 0.932241, Train accuracy: 0.860556, val accuracy: 0.764000\n",
      "Loss: 0.946040, Train accuracy: 0.869778, val accuracy: 0.766000\n",
      "Loss: 0.754564, Train accuracy: 0.868333, val accuracy: 0.760000\n",
      "Loss: 0.567555, Train accuracy: 0.869778, val accuracy: 0.764000\n",
      "Loss: 0.845498, Train accuracy: 0.865000, val accuracy: 0.763000\n",
      "Loss: 0.581409, Train accuracy: 0.873111, val accuracy: 0.760000\n",
      "Loss: 0.869410, Train accuracy: 0.872556, val accuracy: 0.770000\n",
      "Loss: 0.803729, Train accuracy: 0.877222, val accuracy: 0.769000\n"
     ]
    },
    {
     "name": "stdout",
     "output_type": "stream",
     "text": [
      "Loss: 0.829507, Train accuracy: 0.883000, val accuracy: 0.763000\n",
      "Loss: 0.702462, Train accuracy: 0.884556, val accuracy: 0.769000\n",
      "Loss: 0.681375, Train accuracy: 0.885778, val accuracy: 0.761000\n",
      "Loss: 0.733300, Train accuracy: 0.888889, val accuracy: 0.757000\n",
      "Loss: 0.816369, Train accuracy: 0.889000, val accuracy: 0.776000\n",
      "Loss: 0.851932, Train accuracy: 0.881444, val accuracy: 0.754000\n",
      "Loss: 0.816118, Train accuracy: 0.876778, val accuracy: 0.764000\n",
      "Loss: 0.968289, Train accuracy: 0.897667, val accuracy: 0.775000\n",
      "Loss: 0.730952, Train accuracy: 0.887667, val accuracy: 0.764000\n",
      "Loss: 0.730999, Train accuracy: 0.886333, val accuracy: 0.764000\n",
      "Loss: 0.654431, Train accuracy: 0.896889, val accuracy: 0.775000\n",
      "Loss: 0.671153, Train accuracy: 0.901222, val accuracy: 0.766000\n",
      "Loss: 0.797270, Train accuracy: 0.903556, val accuracy: 0.769000\n",
      "Loss: 0.792149, Train accuracy: 0.901444, val accuracy: 0.783000\n",
      "Loss: 0.675758, Train accuracy: 0.905333, val accuracy: 0.780000\n",
      "Loss: 0.708372, Train accuracy: 0.902778, val accuracy: 0.784000\n",
      "Loss: 0.767107, Train accuracy: 0.898556, val accuracy: 0.773000\n",
      "Loss: 0.789020, Train accuracy: 0.908222, val accuracy: 0.772000\n",
      "Loss: 0.625402, Train accuracy: 0.905222, val accuracy: 0.773000\n",
      "Loss: 0.883574, Train accuracy: 0.913444, val accuracy: 0.778000\n",
      "Loss: 0.817264, Train accuracy: 0.902333, val accuracy: 0.790000\n",
      "Loss: 0.746710, Train accuracy: 0.903222, val accuracy: 0.773000\n",
      "Loss: 0.722166, Train accuracy: 0.911111, val accuracy: 0.785000\n",
      "Loss: 0.813148, Train accuracy: 0.893889, val accuracy: 0.773000\n",
      "Loss: 0.769525, Train accuracy: 0.902667, val accuracy: 0.765000\n",
      "Loss: 0.638317, Train accuracy: 0.908222, val accuracy: 0.771000\n",
      "Loss: 0.857595, Train accuracy: 0.916889, val accuracy: 0.771000\n",
      "Loss: 0.628036, Train accuracy: 0.911778, val accuracy: 0.765000\n",
      "Loss: 0.822013, Train accuracy: 0.902444, val accuracy: 0.776000\n",
      "Loss: 0.799445, Train accuracy: 0.901111, val accuracy: 0.766000\n",
      "Loss: 0.830984, Train accuracy: 0.913778, val accuracy: 0.773000\n",
      "Loss: 0.820605, Train accuracy: 0.914444, val accuracy: 0.781000\n",
      "Loss: 0.856480, Train accuracy: 0.904889, val accuracy: 0.766000\n",
      "Loss: 0.533822, Train accuracy: 0.916889, val accuracy: 0.773000\n",
      "Loss: 0.667857, Train accuracy: 0.907889, val accuracy: 0.759000\n",
      "Loss: 0.813931, Train accuracy: 0.923667, val accuracy: 0.783000\n",
      "Loss: 0.997935, Train accuracy: 0.918778, val accuracy: 0.782000\n",
      "Loss: 0.675076, Train accuracy: 0.916444, val accuracy: 0.776000\n",
      "Loss: 0.793921, Train accuracy: 0.910889, val accuracy: 0.774000\n",
      "Loss: 0.729615, Train accuracy: 0.914111, val accuracy: 0.776000\n",
      "Loss: 0.743136, Train accuracy: 0.917000, val accuracy: 0.771000\n",
      "Loss: 0.714463, Train accuracy: 0.922333, val accuracy: 0.778000\n",
      "Loss: 0.652842, Train accuracy: 0.915667, val accuracy: 0.781000\n",
      "Loss: 0.829772, Train accuracy: 0.923778, val accuracy: 0.779000\n",
      "Loss: 0.837581, Train accuracy: 0.920111, val accuracy: 0.785000\n",
      "Loss: 0.739495, Train accuracy: 0.918556, val accuracy: 0.779000\n",
      "Loss: 0.684410, Train accuracy: 0.919667, val accuracy: 0.776000\n",
      "Loss: 0.660109, Train accuracy: 0.918889, val accuracy: 0.773000\n",
      "Loss: 0.958903, Train accuracy: 0.919667, val accuracy: 0.768000\n",
      "Loss: 0.930347, Train accuracy: 0.930000, val accuracy: 0.777000\n",
      "Loss: 0.838501, Train accuracy: 0.916333, val accuracy: 0.777000\n",
      "Loss: 0.612707, Train accuracy: 0.935333, val accuracy: 0.782000\n",
      "Loss: 0.597893, Train accuracy: 0.905333, val accuracy: 0.761000\n",
      "Loss: 0.725552, Train accuracy: 0.915000, val accuracy: 0.770000\n",
      "Loss: 0.744713, Train accuracy: 0.927222, val accuracy: 0.774000\n",
      "Loss: 0.645396, Train accuracy: 0.931111, val accuracy: 0.787000\n",
      "Loss: 0.652153, Train accuracy: 0.929889, val accuracy: 0.785000\n",
      "Loss: 0.843123, Train accuracy: 0.927667, val accuracy: 0.776000\n",
      "Loss: 0.764745, Train accuracy: 0.928667, val accuracy: 0.782000\n",
      "Loss: 0.978082, Train accuracy: 0.916333, val accuracy: 0.767000\n",
      "Loss: 0.778484, Train accuracy: 0.921222, val accuracy: 0.769000\n",
      "Loss: 0.753521, Train accuracy: 0.926444, val accuracy: 0.769000\n",
      "Loss: 0.897415, Train accuracy: 0.923556, val accuracy: 0.770000\n",
      "Loss: 0.633792, Train accuracy: 0.932889, val accuracy: 0.784000\n",
      "Loss: 0.654750, Train accuracy: 0.929000, val accuracy: 0.780000\n",
      "Loss: 0.679734, Train accuracy: 0.923111, val accuracy: 0.776000\n",
      "Loss: 0.808446, Train accuracy: 0.918111, val accuracy: 0.768000\n",
      "Loss: 0.675409, Train accuracy: 0.930000, val accuracy: 0.782000\n",
      "Loss: 0.759815, Train accuracy: 0.930667, val accuracy: 0.776000\n",
      "Loss: 0.608575, Train accuracy: 0.931778, val accuracy: 0.777000\n",
      "Loss: 0.653046, Train accuracy: 0.926333, val accuracy: 0.778000\n",
      "Loss: 0.656739, Train accuracy: 0.924889, val accuracy: 0.773000\n",
      "Loss: 0.761010, Train accuracy: 0.929444, val accuracy: 0.779000\n",
      "Loss: 0.744952, Train accuracy: 0.923222, val accuracy: 0.770000\n",
      "Loss: 0.734684, Train accuracy: 0.927222, val accuracy: 0.787000\n",
      "Loss: 0.774213, Train accuracy: 0.940111, val accuracy: 0.789000\n",
      "Loss: 0.686956, Train accuracy: 0.934333, val accuracy: 0.790000\n",
      "Loss: 0.756588, Train accuracy: 0.927556, val accuracy: 0.783000\n",
      "Loss: 0.658273, Train accuracy: 0.932444, val accuracy: 0.783000\n",
      "Loss: 0.690038, Train accuracy: 0.928667, val accuracy: 0.771000\n",
      "Loss: 0.686013, Train accuracy: 0.931333, val accuracy: 0.772000\n",
      "Loss: 0.722592, Train accuracy: 0.931222, val accuracy: 0.770000\n",
      "Loss: 0.732917, Train accuracy: 0.938889, val accuracy: 0.779000\n",
      "Loss: 0.655836, Train accuracy: 0.930333, val accuracy: 0.777000\n",
      "Loss: 0.703765, Train accuracy: 0.936667, val accuracy: 0.782000\n",
      "Loss: 0.742054, Train accuracy: 0.936222, val accuracy: 0.784000\n",
      "Loss: 0.682212, Train accuracy: 0.927222, val accuracy: 0.780000\n",
      "Loss: 0.626542, Train accuracy: 0.939111, val accuracy: 0.787000\n",
      "Loss: 0.758891, Train accuracy: 0.932111, val accuracy: 0.780000\n",
      "Loss: 0.726769, Train accuracy: 0.941000, val accuracy: 0.782000\n",
      "Loss: 0.953621, Train accuracy: 0.943000, val accuracy: 0.787000\n",
      "Loss: 0.748293, Train accuracy: 0.937111, val accuracy: 0.778000\n",
      "Loss: 0.798552, Train accuracy: 0.929556, val accuracy: 0.769000\n",
      "Loss: 0.658649, Train accuracy: 0.938000, val accuracy: 0.780000\n",
      "Loss: 0.651401, Train accuracy: 0.936222, val accuracy: 0.785000\n",
      "Loss: 0.814446, Train accuracy: 0.941222, val accuracy: 0.788000\n",
      "Loss: 0.751282, Train accuracy: 0.935111, val accuracy: 0.788000\n",
      "Loss: 0.787793, Train accuracy: 0.912667, val accuracy: 0.767000\n",
      "Loss: 0.667951, Train accuracy: 0.938889, val accuracy: 0.780000\n",
      "Loss: 0.785488, Train accuracy: 0.937333, val accuracy: 0.787000\n",
      "Loss: 0.668587, Train accuracy: 0.945111, val accuracy: 0.789000\n",
      "Loss: 0.696678, Train accuracy: 0.936111, val accuracy: 0.779000\n",
      "Loss: 0.668028, Train accuracy: 0.942222, val accuracy: 0.779000\n",
      "Loss: 0.734095, Train accuracy: 0.919222, val accuracy: 0.768000\n",
      "Loss: 0.589292, Train accuracy: 0.939111, val accuracy: 0.776000\n",
      "Loss: 0.665385, Train accuracy: 0.927111, val accuracy: 0.773000\n",
      "Loss: 0.651516, Train accuracy: 0.931333, val accuracy: 0.775000\n",
      "Loss: 0.739676, Train accuracy: 0.944111, val accuracy: 0.788000\n",
      "Loss: 0.828935, Train accuracy: 0.924556, val accuracy: 0.772000\n",
      "Loss: 0.748556, Train accuracy: 0.940111, val accuracy: 0.785000\n",
      "Loss: 0.731755, Train accuracy: 0.943778, val accuracy: 0.782000\n",
      "Loss: 0.614266, Train accuracy: 0.933222, val accuracy: 0.763000\n",
      "Loss: 0.722604, Train accuracy: 0.941000, val accuracy: 0.776000\n",
      "Loss: 1.023153, Train accuracy: 0.946556, val accuracy: 0.780000\n",
      "Loss: 0.830590, Train accuracy: 0.937444, val accuracy: 0.785000\n",
      "Loss: 0.716240, Train accuracy: 0.939556, val accuracy: 0.779000\n",
      "Loss: 0.701890, Train accuracy: 0.927333, val accuracy: 0.763000\n",
      "Loss: 0.808314, Train accuracy: 0.938000, val accuracy: 0.777000\n",
      "Loss: 0.765629, Train accuracy: 0.941444, val accuracy: 0.782000\n",
      "Loss: 0.659297, Train accuracy: 0.942000, val accuracy: 0.783000\n",
      "Loss: 0.857251, Train accuracy: 0.937222, val accuracy: 0.786000\n",
      "Loss: 0.698820, Train accuracy: 0.941667, val accuracy: 0.784000\n",
      "Loss: 0.744369, Train accuracy: 0.940111, val accuracy: 0.776000\n",
      "Loss: 0.750841, Train accuracy: 0.939333, val accuracy: 0.786000\n",
      "Loss: 0.758652, Train accuracy: 0.939667, val accuracy: 0.784000\n",
      "Loss: 0.519124, Train accuracy: 0.936111, val accuracy: 0.780000\n",
      "Loss: 0.675147, Train accuracy: 0.933000, val accuracy: 0.778000\n"
     ]
    },
    {
     "name": "stdout",
     "output_type": "stream",
     "text": [
      "Loss: 0.590608, Train accuracy: 0.940889, val accuracy: 0.777000\n",
      "Loss: 0.720244, Train accuracy: 0.947556, val accuracy: 0.786000\n",
      "Loss: 0.763698, Train accuracy: 0.941333, val accuracy: 0.787000\n",
      "Loss: 0.533350, Train accuracy: 0.941000, val accuracy: 0.780000\n",
      "Loss: 0.567214, Train accuracy: 0.936778, val accuracy: 0.784000\n",
      "Loss: 0.686451, Train accuracy: 0.944000, val accuracy: 0.783000\n",
      "Loss: 0.661007, Train accuracy: 0.927111, val accuracy: 0.780000\n",
      "Loss: 0.746205, Train accuracy: 0.948333, val accuracy: 0.787000\n",
      "Loss: 0.746522, Train accuracy: 0.929333, val accuracy: 0.774000\n",
      "Loss: 0.749436, Train accuracy: 0.946667, val accuracy: 0.795000\n",
      "Loss: 0.648875, Train accuracy: 0.925556, val accuracy: 0.773000\n",
      "Loss: 0.746258, Train accuracy: 0.944333, val accuracy: 0.784000\n",
      "Loss: 0.667883, Train accuracy: 0.939778, val accuracy: 0.769000\n",
      "Loss: 0.784206, Train accuracy: 0.943667, val accuracy: 0.776000\n",
      "Loss: 0.659587, Train accuracy: 0.946000, val accuracy: 0.786000\n",
      "Loss: 0.739705, Train accuracy: 0.948667, val accuracy: 0.777000\n",
      "Loss: 0.596889, Train accuracy: 0.953222, val accuracy: 0.795000\n",
      "Loss: 0.753241, Train accuracy: 0.941556, val accuracy: 0.787000\n",
      "Loss: 0.664193, Train accuracy: 0.937889, val accuracy: 0.785000\n",
      "Loss: 0.789380, Train accuracy: 0.940111, val accuracy: 0.782000\n",
      "Loss: 0.619344, Train accuracy: 0.949889, val accuracy: 0.789000\n",
      "Loss: 0.722057, Train accuracy: 0.938000, val accuracy: 0.783000\n",
      "Resulting accuracy is 0.783\n",
      "\n",
      "\n",
      "Fitting: learning rate = 0.1, hidden_layer_size = 256\n",
      "\n",
      "Loss: 1.893134, Train accuracy: 0.381222, val accuracy: 0.392000\n",
      "Loss: 1.351966, Train accuracy: 0.512111, val accuracy: 0.510000\n",
      "Loss: 1.628972, Train accuracy: 0.607000, val accuracy: 0.584000\n",
      "Loss: 1.941820, Train accuracy: 0.568889, val accuracy: 0.538000\n",
      "Loss: 2.106503, Train accuracy: 0.602000, val accuracy: 0.568000\n",
      "Loss: 1.584104, Train accuracy: 0.578444, val accuracy: 0.549000\n",
      "Loss: 1.520087, Train accuracy: 0.631889, val accuracy: 0.595000\n",
      "Loss: 1.850787, Train accuracy: 0.611444, val accuracy: 0.590000\n",
      "Loss: 2.149903, Train accuracy: 0.607444, val accuracy: 0.588000\n",
      "Loss: 1.345256, Train accuracy: 0.627222, val accuracy: 0.588000\n",
      "Loss: 1.406380, Train accuracy: 0.658778, val accuracy: 0.619000\n",
      "Loss: 1.418698, Train accuracy: 0.631000, val accuracy: 0.607000\n",
      "Loss: 1.894410, Train accuracy: 0.677667, val accuracy: 0.641000\n",
      "Loss: 2.694269, Train accuracy: 0.643333, val accuracy: 0.625000\n",
      "Loss: 1.722658, Train accuracy: 0.664778, val accuracy: 0.599000\n",
      "Loss: 1.962097, Train accuracy: 0.660333, val accuracy: 0.633000\n",
      "Loss: 1.568032, Train accuracy: 0.644333, val accuracy: 0.607000\n",
      "Loss: 1.777969, Train accuracy: 0.621444, val accuracy: 0.575000\n",
      "Loss: 1.590521, Train accuracy: 0.648111, val accuracy: 0.621000\n",
      "Loss: 1.200592, Train accuracy: 0.673778, val accuracy: 0.624000\n",
      "Loss: 1.694304, Train accuracy: 0.675111, val accuracy: 0.643000\n",
      "Loss: 1.544967, Train accuracy: 0.667222, val accuracy: 0.633000\n",
      "Loss: 2.185759, Train accuracy: 0.642889, val accuracy: 0.601000\n",
      "Loss: 1.882518, Train accuracy: 0.665111, val accuracy: 0.602000\n",
      "Loss: 1.326806, Train accuracy: 0.659111, val accuracy: 0.637000\n",
      "Loss: 1.795706, Train accuracy: 0.671778, val accuracy: 0.642000\n",
      "Loss: 1.582814, Train accuracy: 0.704222, val accuracy: 0.631000\n",
      "Loss: 1.341692, Train accuracy: 0.673333, val accuracy: 0.638000\n",
      "Loss: 1.746050, Train accuracy: 0.683000, val accuracy: 0.642000\n",
      "Loss: 1.814630, Train accuracy: 0.695000, val accuracy: 0.654000\n",
      "Loss: 1.790211, Train accuracy: 0.661111, val accuracy: 0.631000\n",
      "Loss: 1.877649, Train accuracy: 0.693444, val accuracy: 0.637000\n",
      "Loss: 1.511478, Train accuracy: 0.663556, val accuracy: 0.626000\n",
      "Loss: 2.092491, Train accuracy: 0.575333, val accuracy: 0.558000\n",
      "Loss: 1.871082, Train accuracy: 0.669222, val accuracy: 0.632000\n",
      "Loss: 1.850442, Train accuracy: 0.664444, val accuracy: 0.639000\n",
      "Loss: 2.158068, Train accuracy: 0.662333, val accuracy: 0.640000\n",
      "Loss: 1.439944, Train accuracy: 0.616000, val accuracy: 0.582000\n",
      "Loss: 2.414892, Train accuracy: 0.665333, val accuracy: 0.603000\n",
      "Loss: 1.928126, Train accuracy: 0.659778, val accuracy: 0.608000\n",
      "Loss: 1.972130, Train accuracy: 0.648222, val accuracy: 0.624000\n",
      "Loss: 1.903561, Train accuracy: 0.672333, val accuracy: 0.625000\n",
      "Loss: 1.922099, Train accuracy: 0.681222, val accuracy: 0.639000\n",
      "Loss: 1.740518, Train accuracy: 0.639556, val accuracy: 0.614000\n",
      "Loss: 1.871709, Train accuracy: 0.668111, val accuracy: 0.642000\n",
      "Loss: 1.154257, Train accuracy: 0.638444, val accuracy: 0.602000\n",
      "Loss: 2.050042, Train accuracy: 0.574111, val accuracy: 0.557000\n",
      "Loss: 1.995179, Train accuracy: 0.681778, val accuracy: 0.642000\n",
      "Loss: 1.535694, Train accuracy: 0.689556, val accuracy: 0.635000\n",
      "Loss: 1.815227, Train accuracy: 0.667889, val accuracy: 0.616000\n",
      "Loss: 1.690405, Train accuracy: 0.637111, val accuracy: 0.595000\n",
      "Loss: 1.435668, Train accuracy: 0.659778, val accuracy: 0.618000\n",
      "Loss: 1.662263, Train accuracy: 0.696000, val accuracy: 0.647000\n",
      "Loss: 1.464657, Train accuracy: 0.659222, val accuracy: 0.615000\n",
      "Loss: 2.108607, Train accuracy: 0.583889, val accuracy: 0.550000\n",
      "Loss: 3.027347, Train accuracy: 0.625111, val accuracy: 0.585000\n",
      "Loss: 1.678413, Train accuracy: 0.659333, val accuracy: 0.614000\n",
      "Loss: 1.445898, Train accuracy: 0.659111, val accuracy: 0.623000\n",
      "Loss: 1.444103, Train accuracy: 0.648111, val accuracy: 0.620000\n",
      "Loss: 1.518611, Train accuracy: 0.665889, val accuracy: 0.616000\n",
      "Loss: 2.121748, Train accuracy: 0.675778, val accuracy: 0.629000\n",
      "Loss: 2.059893, Train accuracy: 0.615889, val accuracy: 0.602000\n",
      "Loss: 1.506915, Train accuracy: 0.680444, val accuracy: 0.651000\n",
      "Loss: 1.362192, Train accuracy: 0.671889, val accuracy: 0.631000\n",
      "Loss: 1.664788, Train accuracy: 0.637667, val accuracy: 0.598000\n",
      "Loss: 2.041689, Train accuracy: 0.634667, val accuracy: 0.604000\n",
      "Loss: 1.748626, Train accuracy: 0.645778, val accuracy: 0.615000\n",
      "Loss: 1.576602, Train accuracy: 0.694556, val accuracy: 0.648000\n",
      "Loss: 1.983075, Train accuracy: 0.675000, val accuracy: 0.610000\n",
      "Loss: 1.824176, Train accuracy: 0.653333, val accuracy: 0.599000\n",
      "Loss: 1.386165, Train accuracy: 0.712889, val accuracy: 0.665000\n",
      "Loss: 1.374112, Train accuracy: 0.686444, val accuracy: 0.636000\n",
      "Loss: 2.243374, Train accuracy: 0.673111, val accuracy: 0.611000\n",
      "Loss: 1.620114, Train accuracy: 0.684778, val accuracy: 0.613000\n",
      "Loss: 1.785022, Train accuracy: 0.612000, val accuracy: 0.591000\n",
      "Loss: 2.095633, Train accuracy: 0.679556, val accuracy: 0.645000\n",
      "Loss: 1.624544, Train accuracy: 0.657778, val accuracy: 0.605000\n",
      "Loss: 1.713843, Train accuracy: 0.668111, val accuracy: 0.629000\n",
      "Loss: 1.575672, Train accuracy: 0.645333, val accuracy: 0.582000\n",
      "Loss: 1.406376, Train accuracy: 0.684222, val accuracy: 0.624000\n",
      "Loss: 1.488240, Train accuracy: 0.671444, val accuracy: 0.619000\n",
      "Loss: 1.240971, Train accuracy: 0.695667, val accuracy: 0.645000\n",
      "Loss: 2.278934, Train accuracy: 0.645111, val accuracy: 0.612000\n",
      "Loss: 1.772987, Train accuracy: 0.643889, val accuracy: 0.593000\n",
      "Loss: 1.941837, Train accuracy: 0.650333, val accuracy: 0.636000\n",
      "Loss: 1.543565, Train accuracy: 0.718444, val accuracy: 0.668000\n",
      "Loss: 1.536963, Train accuracy: 0.660111, val accuracy: 0.619000\n",
      "Loss: 1.293459, Train accuracy: 0.693222, val accuracy: 0.647000\n",
      "Loss: 1.839008, Train accuracy: 0.702222, val accuracy: 0.632000\n",
      "Loss: 1.692288, Train accuracy: 0.685889, val accuracy: 0.628000\n",
      "Loss: 1.492258, Train accuracy: 0.723111, val accuracy: 0.675000\n",
      "Loss: 2.039035, Train accuracy: 0.617556, val accuracy: 0.571000\n",
      "Loss: 1.610580, Train accuracy: 0.626444, val accuracy: 0.586000\n",
      "Loss: 1.839467, Train accuracy: 0.639667, val accuracy: 0.614000\n",
      "Loss: 1.557359, Train accuracy: 0.674333, val accuracy: 0.631000\n",
      "Loss: 1.341375, Train accuracy: 0.641444, val accuracy: 0.599000\n",
      "Loss: 1.563038, Train accuracy: 0.715667, val accuracy: 0.668000\n",
      "Loss: 1.485580, Train accuracy: 0.656000, val accuracy: 0.612000\n",
      "Loss: 1.372691, Train accuracy: 0.725889, val accuracy: 0.683000\n",
      "Loss: 1.604050, Train accuracy: 0.637778, val accuracy: 0.605000\n",
      "Loss: 2.076958, Train accuracy: 0.631111, val accuracy: 0.575000\n",
      "Loss: 1.375663, Train accuracy: 0.715889, val accuracy: 0.643000\n",
      "Loss: 1.653280, Train accuracy: 0.664111, val accuracy: 0.636000\n"
     ]
    },
    {
     "name": "stdout",
     "output_type": "stream",
     "text": [
      "Loss: 1.186899, Train accuracy: 0.695000, val accuracy: 0.662000\n",
      "Loss: 2.073386, Train accuracy: 0.685333, val accuracy: 0.657000\n",
      "Loss: 1.665355, Train accuracy: 0.686000, val accuracy: 0.630000\n",
      "Loss: 1.477191, Train accuracy: 0.635444, val accuracy: 0.601000\n",
      "Loss: 1.655534, Train accuracy: 0.657111, val accuracy: 0.633000\n",
      "Loss: 2.289318, Train accuracy: 0.679111, val accuracy: 0.629000\n",
      "Loss: 1.783835, Train accuracy: 0.725778, val accuracy: 0.662000\n",
      "Loss: 1.779377, Train accuracy: 0.670333, val accuracy: 0.619000\n",
      "Loss: 1.539137, Train accuracy: 0.681556, val accuracy: 0.660000\n",
      "Loss: 2.063432, Train accuracy: 0.690667, val accuracy: 0.655000\n",
      "Loss: 1.408466, Train accuracy: 0.707333, val accuracy: 0.677000\n",
      "Loss: 0.846023, Train accuracy: 0.688333, val accuracy: 0.663000\n",
      "Loss: 2.087205, Train accuracy: 0.683111, val accuracy: 0.621000\n",
      "Loss: 1.678073, Train accuracy: 0.676000, val accuracy: 0.629000\n",
      "Loss: 1.763539, Train accuracy: 0.715667, val accuracy: 0.654000\n",
      "Loss: 1.892309, Train accuracy: 0.676444, val accuracy: 0.625000\n",
      "Loss: 1.888623, Train accuracy: 0.678444, val accuracy: 0.642000\n",
      "Loss: 1.637483, Train accuracy: 0.680889, val accuracy: 0.644000\n",
      "Loss: 1.532662, Train accuracy: 0.688111, val accuracy: 0.647000\n",
      "Loss: 1.627612, Train accuracy: 0.696111, val accuracy: 0.642000\n",
      "Loss: 1.594788, Train accuracy: 0.659000, val accuracy: 0.607000\n",
      "Loss: 1.825104, Train accuracy: 0.685889, val accuracy: 0.634000\n",
      "Loss: 1.258952, Train accuracy: 0.626556, val accuracy: 0.581000\n",
      "Loss: 1.393252, Train accuracy: 0.703000, val accuracy: 0.654000\n",
      "Loss: 1.306941, Train accuracy: 0.706556, val accuracy: 0.648000\n",
      "Loss: 1.439463, Train accuracy: 0.675333, val accuracy: 0.609000\n",
      "Loss: 1.551844, Train accuracy: 0.701444, val accuracy: 0.649000\n",
      "Loss: 1.484758, Train accuracy: 0.717111, val accuracy: 0.652000\n",
      "Loss: 1.920779, Train accuracy: 0.606000, val accuracy: 0.575000\n",
      "Loss: 1.706092, Train accuracy: 0.676778, val accuracy: 0.635000\n",
      "Loss: 1.667986, Train accuracy: 0.654778, val accuracy: 0.610000\n",
      "Loss: 1.468029, Train accuracy: 0.662556, val accuracy: 0.625000\n",
      "Loss: 1.467589, Train accuracy: 0.710556, val accuracy: 0.677000\n",
      "Loss: 1.512940, Train accuracy: 0.714667, val accuracy: 0.659000\n",
      "Loss: 1.557297, Train accuracy: 0.715778, val accuracy: 0.672000\n",
      "Loss: 1.942266, Train accuracy: 0.682667, val accuracy: 0.628000\n",
      "Loss: 1.578649, Train accuracy: 0.658556, val accuracy: 0.618000\n",
      "Loss: 1.261683, Train accuracy: 0.688778, val accuracy: 0.650000\n",
      "Loss: 1.657558, Train accuracy: 0.683222, val accuracy: 0.651000\n",
      "Loss: 1.513086, Train accuracy: 0.698111, val accuracy: 0.659000\n",
      "Loss: 1.375575, Train accuracy: 0.711333, val accuracy: 0.675000\n",
      "Loss: 1.811643, Train accuracy: 0.684222, val accuracy: 0.647000\n",
      "Loss: 1.652529, Train accuracy: 0.730778, val accuracy: 0.673000\n",
      "Loss: 1.466127, Train accuracy: 0.643333, val accuracy: 0.609000\n",
      "Loss: 1.399129, Train accuracy: 0.670889, val accuracy: 0.627000\n",
      "Loss: 1.590667, Train accuracy: 0.690778, val accuracy: 0.648000\n",
      "Loss: 1.319550, Train accuracy: 0.699667, val accuracy: 0.645000\n",
      "Loss: 1.357597, Train accuracy: 0.729111, val accuracy: 0.690000\n",
      "Loss: 1.390204, Train accuracy: 0.723556, val accuracy: 0.667000\n",
      "Loss: 1.938617, Train accuracy: 0.695778, val accuracy: 0.647000\n",
      "Loss: 1.804495, Train accuracy: 0.627556, val accuracy: 0.588000\n",
      "Loss: 1.589292, Train accuracy: 0.703778, val accuracy: 0.669000\n",
      "Loss: 1.231062, Train accuracy: 0.735333, val accuracy: 0.679000\n",
      "Loss: 1.554417, Train accuracy: 0.714333, val accuracy: 0.676000\n",
      "Loss: 1.569296, Train accuracy: 0.695222, val accuracy: 0.659000\n",
      "Loss: 1.505581, Train accuracy: 0.684889, val accuracy: 0.635000\n",
      "Loss: 1.547229, Train accuracy: 0.696556, val accuracy: 0.640000\n",
      "Loss: 1.405346, Train accuracy: 0.676667, val accuracy: 0.636000\n",
      "Loss: 1.049539, Train accuracy: 0.684333, val accuracy: 0.626000\n",
      "Loss: 1.379437, Train accuracy: 0.712333, val accuracy: 0.682000\n",
      "Loss: 1.973480, Train accuracy: 0.714778, val accuracy: 0.662000\n",
      "Loss: 1.865286, Train accuracy: 0.690444, val accuracy: 0.657000\n",
      "Loss: 1.509376, Train accuracy: 0.743222, val accuracy: 0.696000\n",
      "Loss: 1.632128, Train accuracy: 0.686444, val accuracy: 0.643000\n",
      "Loss: 1.741829, Train accuracy: 0.698556, val accuracy: 0.661000\n",
      "Loss: 1.405764, Train accuracy: 0.664444, val accuracy: 0.637000\n",
      "Loss: 1.010142, Train accuracy: 0.725444, val accuracy: 0.663000\n",
      "Loss: 1.676172, Train accuracy: 0.732111, val accuracy: 0.685000\n",
      "Loss: 1.181507, Train accuracy: 0.666333, val accuracy: 0.627000\n",
      "Loss: 1.238436, Train accuracy: 0.677444, val accuracy: 0.624000\n",
      "Loss: 1.493674, Train accuracy: 0.720778, val accuracy: 0.674000\n",
      "Loss: 1.205096, Train accuracy: 0.711667, val accuracy: 0.676000\n",
      "Loss: 1.828735, Train accuracy: 0.696111, val accuracy: 0.669000\n",
      "Loss: 1.286499, Train accuracy: 0.711889, val accuracy: 0.693000\n",
      "Loss: 1.518428, Train accuracy: 0.669333, val accuracy: 0.620000\n",
      "Loss: 1.728273, Train accuracy: 0.728667, val accuracy: 0.671000\n",
      "Loss: 1.502689, Train accuracy: 0.730333, val accuracy: 0.671000\n",
      "Loss: 1.320346, Train accuracy: 0.679889, val accuracy: 0.611000\n",
      "Loss: 1.261540, Train accuracy: 0.681778, val accuracy: 0.618000\n",
      "Loss: 1.280097, Train accuracy: 0.694667, val accuracy: 0.654000\n",
      "Loss: 1.780118, Train accuracy: 0.698667, val accuracy: 0.659000\n",
      "Loss: 1.542147, Train accuracy: 0.733889, val accuracy: 0.677000\n",
      "Loss: 1.203899, Train accuracy: 0.680111, val accuracy: 0.648000\n",
      "Loss: 1.483230, Train accuracy: 0.737778, val accuracy: 0.673000\n",
      "Loss: 1.361321, Train accuracy: 0.677556, val accuracy: 0.624000\n",
      "Loss: 2.217714, Train accuracy: 0.706889, val accuracy: 0.645000\n",
      "Loss: 1.459154, Train accuracy: 0.697889, val accuracy: 0.668000\n",
      "Loss: 1.616611, Train accuracy: 0.707222, val accuracy: 0.654000\n",
      "Loss: 1.555099, Train accuracy: 0.712222, val accuracy: 0.657000\n",
      "Loss: 1.043599, Train accuracy: 0.690222, val accuracy: 0.633000\n",
      "Loss: 1.477989, Train accuracy: 0.733444, val accuracy: 0.676000\n",
      "Loss: 1.510118, Train accuracy: 0.675333, val accuracy: 0.644000\n",
      "Loss: 1.022480, Train accuracy: 0.686778, val accuracy: 0.637000\n",
      "Loss: 1.517858, Train accuracy: 0.696556, val accuracy: 0.639000\n",
      "Loss: 1.438150, Train accuracy: 0.708333, val accuracy: 0.670000\n",
      "Loss: 1.277105, Train accuracy: 0.711000, val accuracy: 0.675000\n",
      "Loss: 1.549878, Train accuracy: 0.667222, val accuracy: 0.625000\n",
      "Resulting accuracy is 0.625\n",
      "\n",
      "\n",
      "Fitting: learning rate = 0.1, hidden_layer_size = 128\n",
      "\n",
      "Loss: 1.753354, Train accuracy: 0.355556, val accuracy: 0.363000\n",
      "Loss: 1.463775, Train accuracy: 0.512444, val accuracy: 0.498000\n",
      "Loss: 1.939226, Train accuracy: 0.606889, val accuracy: 0.594000\n",
      "Loss: 1.538856, Train accuracy: 0.621111, val accuracy: 0.618000\n",
      "Loss: 1.321014, Train accuracy: 0.618444, val accuracy: 0.591000\n",
      "Loss: 1.424606, Train accuracy: 0.609000, val accuracy: 0.577000\n",
      "Loss: 1.837369, Train accuracy: 0.629111, val accuracy: 0.606000\n",
      "Loss: 1.633610, Train accuracy: 0.672444, val accuracy: 0.633000\n",
      "Loss: 1.586331, Train accuracy: 0.628111, val accuracy: 0.601000\n",
      "Loss: 1.916903, Train accuracy: 0.670667, val accuracy: 0.633000\n",
      "Loss: 2.182904, Train accuracy: 0.619444, val accuracy: 0.599000\n",
      "Loss: 1.300931, Train accuracy: 0.615333, val accuracy: 0.592000\n",
      "Loss: 1.916752, Train accuracy: 0.651333, val accuracy: 0.596000\n",
      "Loss: 2.083381, Train accuracy: 0.641000, val accuracy: 0.629000\n",
      "Loss: 1.876269, Train accuracy: 0.666333, val accuracy: 0.633000\n",
      "Loss: 1.305219, Train accuracy: 0.691444, val accuracy: 0.636000\n",
      "Loss: 1.729242, Train accuracy: 0.649222, val accuracy: 0.627000\n",
      "Loss: 1.718408, Train accuracy: 0.652556, val accuracy: 0.599000\n",
      "Loss: 1.352488, Train accuracy: 0.676778, val accuracy: 0.632000\n",
      "Loss: 1.227546, Train accuracy: 0.673778, val accuracy: 0.639000\n",
      "Loss: 1.177506, Train accuracy: 0.647333, val accuracy: 0.615000\n",
      "Loss: 1.639571, Train accuracy: 0.638889, val accuracy: 0.590000\n",
      "Loss: 1.506671, Train accuracy: 0.628778, val accuracy: 0.601000\n",
      "Loss: 2.750025, Train accuracy: 0.605667, val accuracy: 0.556000\n",
      "Loss: 1.949831, Train accuracy: 0.700444, val accuracy: 0.662000\n",
      "Loss: 1.700074, Train accuracy: 0.664444, val accuracy: 0.640000\n",
      "Loss: 1.303572, Train accuracy: 0.695444, val accuracy: 0.636000\n",
      "Loss: 1.466464, Train accuracy: 0.595667, val accuracy: 0.578000\n"
     ]
    },
    {
     "name": "stdout",
     "output_type": "stream",
     "text": [
      "Loss: 1.469293, Train accuracy: 0.661889, val accuracy: 0.615000\n",
      "Loss: 1.623621, Train accuracy: 0.606000, val accuracy: 0.547000\n",
      "Loss: 1.634202, Train accuracy: 0.626889, val accuracy: 0.597000\n",
      "Loss: 1.745752, Train accuracy: 0.593333, val accuracy: 0.573000\n",
      "Loss: 1.612623, Train accuracy: 0.648333, val accuracy: 0.612000\n",
      "Loss: 1.655672, Train accuracy: 0.605444, val accuracy: 0.543000\n",
      "Loss: 1.644556, Train accuracy: 0.695111, val accuracy: 0.636000\n",
      "Loss: 1.552896, Train accuracy: 0.627889, val accuracy: 0.595000\n",
      "Loss: 2.013001, Train accuracy: 0.693667, val accuracy: 0.657000\n",
      "Loss: 1.230468, Train accuracy: 0.639889, val accuracy: 0.588000\n",
      "Loss: 1.585993, Train accuracy: 0.673222, val accuracy: 0.639000\n",
      "Loss: 1.873731, Train accuracy: 0.664778, val accuracy: 0.640000\n",
      "Loss: 1.559420, Train accuracy: 0.659778, val accuracy: 0.618000\n",
      "Loss: 1.640881, Train accuracy: 0.651667, val accuracy: 0.612000\n",
      "Loss: 1.408537, Train accuracy: 0.679222, val accuracy: 0.649000\n",
      "Loss: 2.333515, Train accuracy: 0.650111, val accuracy: 0.587000\n",
      "Loss: 1.802916, Train accuracy: 0.659333, val accuracy: 0.608000\n",
      "Loss: 1.233454, Train accuracy: 0.630222, val accuracy: 0.593000\n",
      "Loss: 1.601957, Train accuracy: 0.674778, val accuracy: 0.623000\n",
      "Loss: 1.457665, Train accuracy: 0.629444, val accuracy: 0.597000\n",
      "Loss: 1.790460, Train accuracy: 0.636222, val accuracy: 0.588000\n",
      "Loss: 1.544579, Train accuracy: 0.706778, val accuracy: 0.672000\n",
      "Loss: 1.554891, Train accuracy: 0.691889, val accuracy: 0.646000\n",
      "Loss: 1.607785, Train accuracy: 0.694556, val accuracy: 0.654000\n",
      "Loss: 2.337165, Train accuracy: 0.679889, val accuracy: 0.636000\n",
      "Loss: 1.664827, Train accuracy: 0.637444, val accuracy: 0.588000\n",
      "Loss: 1.474243, Train accuracy: 0.652889, val accuracy: 0.611000\n",
      "Loss: 1.531543, Train accuracy: 0.709556, val accuracy: 0.650000\n",
      "Loss: 1.421360, Train accuracy: 0.650444, val accuracy: 0.613000\n",
      "Loss: 1.615035, Train accuracy: 0.695778, val accuracy: 0.664000\n",
      "Loss: 1.782062, Train accuracy: 0.677889, val accuracy: 0.648000\n",
      "Loss: 1.422678, Train accuracy: 0.689667, val accuracy: 0.652000\n",
      "Loss: 1.608035, Train accuracy: 0.655444, val accuracy: 0.649000\n",
      "Loss: 2.130703, Train accuracy: 0.633889, val accuracy: 0.608000\n",
      "Loss: 1.691708, Train accuracy: 0.650667, val accuracy: 0.607000\n",
      "Loss: 2.063154, Train accuracy: 0.672000, val accuracy: 0.629000\n",
      "Loss: 1.662449, Train accuracy: 0.707333, val accuracy: 0.670000\n",
      "Loss: 1.453197, Train accuracy: 0.636111, val accuracy: 0.610000\n",
      "Loss: 1.478075, Train accuracy: 0.702778, val accuracy: 0.644000\n",
      "Loss: 1.498615, Train accuracy: 0.727778, val accuracy: 0.673000\n",
      "Loss: 1.423366, Train accuracy: 0.687556, val accuracy: 0.631000\n",
      "Loss: 1.532427, Train accuracy: 0.653667, val accuracy: 0.621000\n",
      "Loss: 1.839510, Train accuracy: 0.646000, val accuracy: 0.624000\n",
      "Loss: 1.210151, Train accuracy: 0.674778, val accuracy: 0.630000\n",
      "Loss: 1.861951, Train accuracy: 0.690222, val accuracy: 0.651000\n",
      "Loss: 1.909804, Train accuracy: 0.703667, val accuracy: 0.654000\n",
      "Loss: 1.770858, Train accuracy: 0.620222, val accuracy: 0.604000\n",
      "Loss: 1.547552, Train accuracy: 0.662778, val accuracy: 0.613000\n",
      "Loss: 1.180877, Train accuracy: 0.680778, val accuracy: 0.649000\n",
      "Loss: 1.659283, Train accuracy: 0.681444, val accuracy: 0.642000\n",
      "Loss: 1.730037, Train accuracy: 0.684556, val accuracy: 0.635000\n",
      "Loss: 1.289212, Train accuracy: 0.696111, val accuracy: 0.674000\n",
      "Loss: 1.323184, Train accuracy: 0.701889, val accuracy: 0.661000\n",
      "Loss: 1.847208, Train accuracy: 0.719667, val accuracy: 0.681000\n",
      "Loss: 1.312031, Train accuracy: 0.680667, val accuracy: 0.640000\n",
      "Loss: 1.710284, Train accuracy: 0.681889, val accuracy: 0.630000\n",
      "Loss: 1.177980, Train accuracy: 0.688778, val accuracy: 0.647000\n",
      "Loss: 1.451012, Train accuracy: 0.709111, val accuracy: 0.656000\n",
      "Loss: 1.216395, Train accuracy: 0.712778, val accuracy: 0.684000\n",
      "Loss: 1.463717, Train accuracy: 0.695222, val accuracy: 0.643000\n",
      "Loss: 1.538717, Train accuracy: 0.672778, val accuracy: 0.633000\n",
      "Loss: 2.047939, Train accuracy: 0.701444, val accuracy: 0.645000\n",
      "Loss: 1.662242, Train accuracy: 0.675000, val accuracy: 0.631000\n",
      "Loss: 1.500442, Train accuracy: 0.680222, val accuracy: 0.648000\n",
      "Loss: 1.253118, Train accuracy: 0.662444, val accuracy: 0.616000\n",
      "Loss: 1.415054, Train accuracy: 0.697444, val accuracy: 0.640000\n",
      "Loss: 1.569219, Train accuracy: 0.676667, val accuracy: 0.627000\n",
      "Loss: 1.212770, Train accuracy: 0.641333, val accuracy: 0.613000\n",
      "Loss: 1.787959, Train accuracy: 0.664444, val accuracy: 0.635000\n",
      "Loss: 1.347972, Train accuracy: 0.702556, val accuracy: 0.647000\n",
      "Loss: 1.549547, Train accuracy: 0.683556, val accuracy: 0.638000\n",
      "Loss: 1.507827, Train accuracy: 0.699556, val accuracy: 0.659000\n",
      "Loss: 1.733477, Train accuracy: 0.665111, val accuracy: 0.632000\n",
      "Loss: 1.266996, Train accuracy: 0.727111, val accuracy: 0.675000\n",
      "Loss: 2.014978, Train accuracy: 0.687333, val accuracy: 0.643000\n",
      "Loss: 1.598762, Train accuracy: 0.715778, val accuracy: 0.675000\n",
      "Loss: 1.622189, Train accuracy: 0.688222, val accuracy: 0.674000\n",
      "Loss: 1.655034, Train accuracy: 0.690667, val accuracy: 0.670000\n",
      "Loss: 1.590852, Train accuracy: 0.666000, val accuracy: 0.622000\n",
      "Loss: 1.657940, Train accuracy: 0.688000, val accuracy: 0.653000\n",
      "Loss: 1.406154, Train accuracy: 0.729222, val accuracy: 0.682000\n",
      "Loss: 1.419155, Train accuracy: 0.687000, val accuracy: 0.657000\n",
      "Loss: 1.425228, Train accuracy: 0.686667, val accuracy: 0.642000\n",
      "Loss: 1.248595, Train accuracy: 0.688333, val accuracy: 0.646000\n",
      "Loss: 1.515570, Train accuracy: 0.672778, val accuracy: 0.628000\n",
      "Loss: 1.387406, Train accuracy: 0.708778, val accuracy: 0.646000\n",
      "Loss: 1.968643, Train accuracy: 0.675222, val accuracy: 0.645000\n",
      "Loss: 1.559165, Train accuracy: 0.640667, val accuracy: 0.605000\n",
      "Loss: 1.218829, Train accuracy: 0.709556, val accuracy: 0.667000\n",
      "Loss: 1.275660, Train accuracy: 0.698222, val accuracy: 0.658000\n",
      "Loss: 1.397399, Train accuracy: 0.653667, val accuracy: 0.617000\n",
      "Loss: 1.866896, Train accuracy: 0.677000, val accuracy: 0.640000\n",
      "Loss: 1.490685, Train accuracy: 0.682556, val accuracy: 0.648000\n",
      "Loss: 1.593484, Train accuracy: 0.682444, val accuracy: 0.653000\n",
      "Loss: 1.557643, Train accuracy: 0.738778, val accuracy: 0.690000\n",
      "Loss: 1.350316, Train accuracy: 0.691222, val accuracy: 0.656000\n",
      "Loss: 1.609826, Train accuracy: 0.714667, val accuracy: 0.650000\n",
      "Loss: 1.575203, Train accuracy: 0.721556, val accuracy: 0.668000\n",
      "Loss: 2.152127, Train accuracy: 0.651222, val accuracy: 0.598000\n",
      "Loss: 1.514746, Train accuracy: 0.695222, val accuracy: 0.641000\n",
      "Loss: 1.616299, Train accuracy: 0.689111, val accuracy: 0.667000\n",
      "Loss: 1.811164, Train accuracy: 0.654000, val accuracy: 0.615000\n",
      "Loss: 1.639757, Train accuracy: 0.677111, val accuracy: 0.633000\n",
      "Loss: 1.528819, Train accuracy: 0.709222, val accuracy: 0.661000\n",
      "Loss: 1.237710, Train accuracy: 0.701444, val accuracy: 0.645000\n",
      "Loss: 1.615900, Train accuracy: 0.625889, val accuracy: 0.611000\n",
      "Loss: 1.078679, Train accuracy: 0.728778, val accuracy: 0.701000\n",
      "Loss: 1.868527, Train accuracy: 0.632444, val accuracy: 0.600000\n",
      "Loss: 1.590414, Train accuracy: 0.706889, val accuracy: 0.659000\n",
      "Loss: 1.116829, Train accuracy: 0.717444, val accuracy: 0.652000\n",
      "Loss: 1.652992, Train accuracy: 0.657889, val accuracy: 0.599000\n",
      "Loss: 1.235075, Train accuracy: 0.693556, val accuracy: 0.640000\n",
      "Loss: 1.771025, Train accuracy: 0.659444, val accuracy: 0.604000\n",
      "Loss: 2.014194, Train accuracy: 0.642444, val accuracy: 0.618000\n",
      "Loss: 1.126385, Train accuracy: 0.702444, val accuracy: 0.654000\n",
      "Loss: 1.603944, Train accuracy: 0.712222, val accuracy: 0.633000\n",
      "Loss: 1.374188, Train accuracy: 0.712889, val accuracy: 0.654000\n",
      "Loss: 1.261183, Train accuracy: 0.729444, val accuracy: 0.663000\n",
      "Loss: 1.316305, Train accuracy: 0.718778, val accuracy: 0.655000\n",
      "Loss: 1.581983, Train accuracy: 0.674444, val accuracy: 0.628000\n",
      "Loss: 1.613122, Train accuracy: 0.716889, val accuracy: 0.673000\n",
      "Loss: 1.280370, Train accuracy: 0.706000, val accuracy: 0.655000\n",
      "Loss: 1.179436, Train accuracy: 0.711000, val accuracy: 0.668000\n",
      "Loss: 1.198067, Train accuracy: 0.691111, val accuracy: 0.634000\n",
      "Loss: 1.384017, Train accuracy: 0.710778, val accuracy: 0.636000\n",
      "Loss: 1.447400, Train accuracy: 0.706000, val accuracy: 0.655000\n",
      "Loss: 1.620314, Train accuracy: 0.692333, val accuracy: 0.652000\n"
     ]
    },
    {
     "name": "stdout",
     "output_type": "stream",
     "text": [
      "Loss: 1.319093, Train accuracy: 0.630333, val accuracy: 0.591000\n",
      "Loss: 2.487628, Train accuracy: 0.658667, val accuracy: 0.609000\n",
      "Loss: 1.677197, Train accuracy: 0.689778, val accuracy: 0.644000\n",
      "Loss: 1.850364, Train accuracy: 0.713222, val accuracy: 0.662000\n",
      "Loss: 1.559893, Train accuracy: 0.716778, val accuracy: 0.668000\n",
      "Loss: 1.851456, Train accuracy: 0.695556, val accuracy: 0.640000\n",
      "Loss: 1.151205, Train accuracy: 0.675444, val accuracy: 0.639000\n",
      "Loss: 1.363152, Train accuracy: 0.717667, val accuracy: 0.667000\n",
      "Loss: 1.248804, Train accuracy: 0.749556, val accuracy: 0.685000\n",
      "Loss: 1.284997, Train accuracy: 0.713778, val accuracy: 0.664000\n",
      "Loss: 1.432103, Train accuracy: 0.678889, val accuracy: 0.638000\n",
      "Loss: 1.038719, Train accuracy: 0.677667, val accuracy: 0.647000\n",
      "Loss: 1.398644, Train accuracy: 0.704000, val accuracy: 0.656000\n",
      "Loss: 1.282627, Train accuracy: 0.701333, val accuracy: 0.647000\n",
      "Loss: 1.851156, Train accuracy: 0.693222, val accuracy: 0.634000\n",
      "Loss: 1.157330, Train accuracy: 0.713667, val accuracy: 0.667000\n",
      "Loss: 1.867427, Train accuracy: 0.682000, val accuracy: 0.644000\n",
      "Loss: 1.586200, Train accuracy: 0.710000, val accuracy: 0.668000\n",
      "Loss: 1.589402, Train accuracy: 0.690556, val accuracy: 0.645000\n",
      "Loss: 2.111478, Train accuracy: 0.673889, val accuracy: 0.621000\n",
      "Loss: 1.433562, Train accuracy: 0.664333, val accuracy: 0.615000\n",
      "Loss: 1.218384, Train accuracy: 0.712222, val accuracy: 0.678000\n",
      "Loss: 1.673154, Train accuracy: 0.670556, val accuracy: 0.615000\n",
      "Loss: 1.343853, Train accuracy: 0.723778, val accuracy: 0.683000\n",
      "Loss: 1.386540, Train accuracy: 0.720333, val accuracy: 0.659000\n",
      "Loss: 1.370201, Train accuracy: 0.712444, val accuracy: 0.651000\n",
      "Loss: 1.311236, Train accuracy: 0.654556, val accuracy: 0.634000\n",
      "Loss: 1.243562, Train accuracy: 0.710222, val accuracy: 0.669000\n",
      "Loss: 1.425634, Train accuracy: 0.724556, val accuracy: 0.675000\n",
      "Loss: 1.350992, Train accuracy: 0.727333, val accuracy: 0.671000\n",
      "Loss: 1.734583, Train accuracy: 0.689333, val accuracy: 0.634000\n",
      "Loss: 1.395010, Train accuracy: 0.711222, val accuracy: 0.657000\n",
      "Loss: 1.333656, Train accuracy: 0.722778, val accuracy: 0.679000\n",
      "Loss: 1.531525, Train accuracy: 0.723778, val accuracy: 0.676000\n",
      "Loss: 1.359948, Train accuracy: 0.742778, val accuracy: 0.701000\n",
      "Loss: 1.424511, Train accuracy: 0.706111, val accuracy: 0.661000\n",
      "Loss: 1.558947, Train accuracy: 0.676556, val accuracy: 0.639000\n",
      "Loss: 1.461266, Train accuracy: 0.707556, val accuracy: 0.657000\n",
      "Loss: 1.292884, Train accuracy: 0.728000, val accuracy: 0.662000\n",
      "Loss: 1.633226, Train accuracy: 0.712333, val accuracy: 0.674000\n",
      "Loss: 1.384585, Train accuracy: 0.700667, val accuracy: 0.662000\n",
      "Loss: 1.508209, Train accuracy: 0.731333, val accuracy: 0.676000\n",
      "Loss: 1.933884, Train accuracy: 0.711667, val accuracy: 0.659000\n",
      "Loss: 1.330339, Train accuracy: 0.744222, val accuracy: 0.693000\n",
      "Loss: 1.401247, Train accuracy: 0.671222, val accuracy: 0.616000\n",
      "Resulting accuracy is 0.616\n",
      "\n",
      "best validation accuracy achieved: 0.783000\n"
     ]
    }
   ],
   "source": [
    "# Let's train the best one-hidden-layer network we can\n",
    "\n",
    "learning_rates = [1e-2, 1e-1]\n",
    "reg_strength = 1e-3\n",
    "learning_rate_decay = 0.999\n",
    "hidden_layer_size = [256, 128]\n",
    "num_epochs = 200\n",
    "batch_size = 64\n",
    "\n",
    "best_classifier = None\n",
    "best_val_accuracy = 0\n",
    "\n",
    "loss_history = []\n",
    "train_history = []\n",
    "val_history = []\n",
    "\n",
    "dataset = Dataset(train_X, train_y, val_X, val_y)\n",
    "for lr in learning_rates:\n",
    "    for hls in hidden_layer_size:\n",
    "        model = TwoLayerNet(n_input = train_X.shape[1], n_output = 10, hidden_layer_size = hls, reg = reg)\n",
    "        trainer = Trainer(model,\n",
    "                          dataset,\n",
    "                          MomentumSGD(),\n",
    "                          num_epochs = num_epochs,\n",
    "                          batch_size = batch_size,\n",
    "                          learning_rate = lr,\n",
    "                          learning_rate_decay = learning_rate_decay)\n",
    "        print(f'\\nFitting: learning rate = {lr}, hidden_layer_size = {hls}\\n')\n",
    "        loss_history, train_history, val_history = trainer.fit()\n",
    "        print(f'Resulting accuracy is {val_history[-1]}\\n')\n",
    "        if val_history[-1] > best_val_accuracy:\n",
    "            best_classifier = model\n",
    "            best_val_accuracy = val_history[-1]\n",
    "\n",
    "print('best validation accuracy achieved: %f' % best_val_accuracy)"
   ]
  },
  {
   "cell_type": "code",
   "execution_count": 55,
   "metadata": {},
   "outputs": [
    {
     "data": {
      "text/plain": [
       "<matplotlib.legend.Legend at 0x7fd4ea7094f0>"
      ]
     },
     "execution_count": 55,
     "metadata": {},
     "output_type": "execute_result"
    },
    {
     "data": {
      "image/png": "[encoded data removed]",
      "text/plain": [
       "<Figure size 1080x504 with 2 Axes>"
      ]
     },
     "metadata": {
      "needs_background": "light"
     },
     "output_type": "display_data"
    }
   ],
   "source": [
    "plt.figure(figsize=(15, 7))\n",
    "plt.subplot(211)\n",
    "plt.title(\"Loss\")\n",
    "plt.plot(loss_history)\n",
    "plt.subplot(212)\n",
    "plt.title(\"Train/validation accuracy\")\n",
    "plt.plot(train_history, label='Train Accuracy')\n",
    "plt.plot(val_history, label='Val Accuracy')\n",
    "plt.legend()"
   ]
  },
  {
   "cell_type": "markdown",
   "metadata": {},
   "source": [
    "# Как обычно, посмотрим, как наша лучшая модель работает на тестовых данных"
   ]
  },
  {
   "cell_type": "code",
   "execution_count": 56,
   "metadata": {},
   "outputs": [
    {
     "name": "stdout",
     "output_type": "stream",
     "text": [
      "Neural net test set accuracy: 0.758000\n"
     ]
    }
   ],
   "source": [
    "test_pred = best_classifier.predict(test_X)\n",
    "test_accuracy = multiclass_accuracy(test_pred, test_y)\n",
    "print('Neural net test set accuracy: %f' % (test_accuracy, ))"
   ]
  },
  {
   "cell_type": "code",
   "execution_count": null,
   "metadata": {},
   "outputs": [],
   "source": []
  }
 ],
 "metadata": {
  "kernelspec": {
   "display_name": "Python 3 (ipykernel)",
   "language": "python",
   "name": "python3"
  },
  "language_info": {
   "codemirror_mode": {
    "name": "ipython",
    "version": 3
   },
   "file_extension": ".py",
   "mimetype": "text/x-python",
   "name": "python",
   "nbconvert_exporter": "python",
   "pygments_lexer": "ipython3",
   "version": "3.8.10"
  }
 },
 "nbformat": 4,
 "nbformat_minor": 2
}
